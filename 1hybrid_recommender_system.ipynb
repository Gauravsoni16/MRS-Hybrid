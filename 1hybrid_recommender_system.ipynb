{
 "cells": [
  {
   "cell_type": "markdown",
   "id": "union-playback",
   "metadata": {
    "id": "union-playback",
    "papermill": {
     "duration": 0.035117,
     "end_time": "2021-06-15T13:17:23.413237",
     "exception": false,
     "start_time": "2021-06-15T13:17:23.378120",
     "status": "completed"
    },
    "tags": []
   },
   "source": [
    "# Hybrid Recommender System"
   ]
  },
  {
   "cell_type": "markdown",
   "id": "extended-translation",
   "metadata": {
    "id": "extended-translation",
    "papermill": {
     "duration": 0.032208,
     "end_time": "2021-06-15T13:17:23.736049",
     "exception": false,
     "start_time": "2021-06-15T13:17:23.703841",
     "status": "completed"
    },
    "tags": []
   },
   "source": [
    "# Load Dataset\n"
   ]
  },
  {
   "cell_type": "code",
   "execution_count": 1,
   "id": "lovely-damages",
   "metadata": {
    "_cell_guid": "b1076dfc-b9ad-4769-8c92-a6c4dae69d19",
    "_uuid": "8f2839f25d086af736a60e9eeb907d3b93b6e0e5",
    "execution": {
     "iopub.execute_input": "2021-06-15T13:17:23.804696Z",
     "iopub.status.busy": "2021-06-15T13:17:23.803467Z",
     "iopub.status.idle": "2021-06-15T13:17:23.826170Z",
     "shell.execute_reply": "2021-06-15T13:17:23.825414Z",
     "shell.execute_reply.started": "2021-06-13T09:30:23.945814Z"
    },
    "id": "lovely-damages",
    "papermill": {
     "duration": 0.057832,
     "end_time": "2021-06-15T13:17:23.826330",
     "exception": false,
     "start_time": "2021-06-15T13:17:23.768498",
     "status": "completed"
    },
    "tags": []
   },
   "outputs": [],
   "source": [
    "import numpy as np # linear algebra\n",
    "import pandas as pd # data processing"
   ]
  },
  {
   "cell_type": "code",
   "execution_count": 2,
   "id": "silent-grace",
   "metadata": {
    "colab": {
     "base_uri": "https://localhost:8080/",
     "height": 206
    },
    "execution": {
     "iopub.execute_input": "2021-06-15T13:17:23.898777Z",
     "iopub.status.busy": "2021-06-15T13:17:23.898042Z",
     "iopub.status.idle": "2021-06-15T13:17:58.457972Z",
     "shell.execute_reply": "2021-06-15T13:17:58.458508Z",
     "shell.execute_reply.started": "2021-06-15T12:59:05.972613Z"
    },
    "id": "silent-grace",
    "outputId": "97875a15-aea9-4cf2-ee89-a0814b16933e",
    "papermill": {
     "duration": 34.599049,
     "end_time": "2021-06-15T13:17:58.458689",
     "exception": false,
     "start_time": "2021-06-15T13:17:23.859640",
     "status": "completed"
    },
    "tags": []
   },
   "outputs": [
    {
     "data": {
      "text/html": [
       "<div>\n",
       "<style scoped>\n",
       "    .dataframe tbody tr th:only-of-type {\n",
       "        vertical-align: middle;\n",
       "    }\n",
       "\n",
       "    .dataframe tbody tr th {\n",
       "        vertical-align: top;\n",
       "    }\n",
       "\n",
       "    .dataframe thead th {\n",
       "        text-align: right;\n",
       "    }\n",
       "</style>\n",
       "<table border=\"1\" class=\"dataframe\">\n",
       "  <thead>\n",
       "    <tr style=\"text-align: right;\">\n",
       "      <th></th>\n",
       "      <th>movieId</th>\n",
       "      <th>title</th>\n",
       "      <th>genres</th>\n",
       "      <th>userId</th>\n",
       "      <th>rating</th>\n",
       "      <th>timestamp</th>\n",
       "    </tr>\n",
       "  </thead>\n",
       "  <tbody>\n",
       "    <tr>\n",
       "      <th>0</th>\n",
       "      <td>1</td>\n",
       "      <td>Toy Story (1995)</td>\n",
       "      <td>Adventure|Animation|Children|Comedy|Fantasy</td>\n",
       "      <td>3.0</td>\n",
       "      <td>4.0</td>\n",
       "      <td>1999-12-11 13:36:47</td>\n",
       "    </tr>\n",
       "    <tr>\n",
       "      <th>1</th>\n",
       "      <td>1</td>\n",
       "      <td>Toy Story (1995)</td>\n",
       "      <td>Adventure|Animation|Children|Comedy|Fantasy</td>\n",
       "      <td>6.0</td>\n",
       "      <td>5.0</td>\n",
       "      <td>1997-03-13 17:50:52</td>\n",
       "    </tr>\n",
       "    <tr>\n",
       "      <th>2</th>\n",
       "      <td>1</td>\n",
       "      <td>Toy Story (1995)</td>\n",
       "      <td>Adventure|Animation|Children|Comedy|Fantasy</td>\n",
       "      <td>8.0</td>\n",
       "      <td>4.0</td>\n",
       "      <td>1996-06-05 13:37:51</td>\n",
       "    </tr>\n",
       "    <tr>\n",
       "      <th>3</th>\n",
       "      <td>1</td>\n",
       "      <td>Toy Story (1995)</td>\n",
       "      <td>Adventure|Animation|Children|Comedy|Fantasy</td>\n",
       "      <td>10.0</td>\n",
       "      <td>4.0</td>\n",
       "      <td>1999-11-25 02:44:47</td>\n",
       "    </tr>\n",
       "    <tr>\n",
       "      <th>4</th>\n",
       "      <td>1</td>\n",
       "      <td>Toy Story (1995)</td>\n",
       "      <td>Adventure|Animation|Children|Comedy|Fantasy</td>\n",
       "      <td>11.0</td>\n",
       "      <td>4.5</td>\n",
       "      <td>2009-01-02 01:13:41</td>\n",
       "    </tr>\n",
       "  </tbody>\n",
       "</table>\n",
       "</div>"
      ],
      "text/plain": [
       "   movieId             title                                       genres  \\\n",
       "0        1  Toy Story (1995)  Adventure|Animation|Children|Comedy|Fantasy   \n",
       "1        1  Toy Story (1995)  Adventure|Animation|Children|Comedy|Fantasy   \n",
       "2        1  Toy Story (1995)  Adventure|Animation|Children|Comedy|Fantasy   \n",
       "3        1  Toy Story (1995)  Adventure|Animation|Children|Comedy|Fantasy   \n",
       "4        1  Toy Story (1995)  Adventure|Animation|Children|Comedy|Fantasy   \n",
       "\n",
       "   userId  rating            timestamp  \n",
       "0     3.0     4.0  1999-12-11 13:36:47  \n",
       "1     6.0     5.0  1997-03-13 17:50:52  \n",
       "2     8.0     4.0  1996-06-05 13:37:51  \n",
       "3    10.0     4.0  1999-11-25 02:44:47  \n",
       "4    11.0     4.5  2009-01-02 01:13:41  "
      ]
     },
     "execution_count": 2,
     "metadata": {},
     "output_type": "execute_result"
    }
   ],
   "source": [
    "pd.set_option('display.max_columns', 20)\n",
    "movie = pd.read_csv(\"movie.csv\")\n",
    "rating = pd.read_csv(\"rating.csv\")\n",
    "\n",
    "df = movie.merge(rating, how=\"left\", on=\"movieId\")\n",
    "df.head()"
   ]
  },
  {
   "cell_type": "code",
   "execution_count": 3,
   "id": "extra-friendship",
   "metadata": {
    "colab": {
     "base_uri": "https://localhost:8080/"
    },
    "execution": {
     "iopub.execute_input": "2021-06-15T13:17:58.528591Z",
     "iopub.status.busy": "2021-06-15T13:17:58.527573Z",
     "iopub.status.idle": "2021-06-15T13:17:58.533111Z",
     "shell.execute_reply": "2021-06-15T13:17:58.533575Z",
     "shell.execute_reply.started": "2021-06-15T13:01:07.481249Z"
    },
    "id": "extra-friendship",
    "outputId": "ab6eba43-203f-419f-aa98-2211b936d16a",
    "papermill": {
     "duration": 0.042111,
     "end_time": "2021-06-15T13:17:58.533764",
     "exception": false,
     "start_time": "2021-06-15T13:17:58.491653",
     "status": "completed"
    },
    "tags": []
   },
   "outputs": [
    {
     "data": {
      "text/plain": [
       "(20000797, 6)"
      ]
     },
     "execution_count": 3,
     "metadata": {},
     "output_type": "execute_result"
    }
   ],
   "source": [
    "df.shape"
   ]
  },
  {
   "cell_type": "code",
   "execution_count": 4,
   "id": "instrumental-angel",
   "metadata": {
    "colab": {
     "base_uri": "https://localhost:8080/"
    },
    "execution": {
     "iopub.execute_input": "2021-06-15T13:17:58.670714Z",
     "iopub.status.busy": "2021-06-15T13:17:58.669697Z",
     "iopub.status.idle": "2021-06-15T13:18:02.573256Z",
     "shell.execute_reply": "2021-06-15T13:18:02.572657Z",
     "shell.execute_reply.started": "2021-06-15T13:01:25.511996Z"
    },
    "id": "instrumental-angel",
    "outputId": "0077f0e9-1090-4543-c853-2c7260b32824",
    "papermill": {
     "duration": 3.940025,
     "end_time": "2021-06-15T13:18:02.573415",
     "exception": false,
     "start_time": "2021-06-15T13:17:58.633390",
     "status": "completed"
    },
    "tags": []
   },
   "outputs": [
    {
     "data": {
      "text/plain": [
       "27262"
      ]
     },
     "execution_count": 4,
     "metadata": {},
     "output_type": "execute_result"
    }
   ],
   "source": [
    "# unique movies:\n",
    "df[\"title\"].nunique()"
   ]
  },
  {
   "cell_type": "code",
   "execution_count": 5,
   "id": "choice-customer",
   "metadata": {
    "colab": {
     "base_uri": "https://localhost:8080/"
    },
    "execution": {
     "iopub.execute_input": "2021-06-15T13:18:06.636962Z",
     "iopub.status.busy": "2021-06-15T13:18:04.913454Z",
     "iopub.status.idle": "2021-06-15T13:18:06.655463Z",
     "shell.execute_reply": "2021-06-15T13:18:06.654785Z",
     "shell.execute_reply.started": "2021-06-15T13:02:21.077823Z"
    },
    "id": "choice-customer",
    "outputId": "93018ec2-88d6-472e-bb37-3390c6966bfd",
    "papermill": {
     "duration": 4.048383,
     "end_time": "2021-06-15T13:18:06.655611",
     "exception": false,
     "start_time": "2021-06-15T13:18:02.607228",
     "status": "completed"
    },
    "tags": []
   },
   "outputs": [
    {
     "data": {
      "text/plain": [
       "Pulp Fiction (1994)                 67310\n",
       "Forrest Gump (1994)                 66172\n",
       "Shawshank Redemption, The (1994)    63366\n",
       "Silence of the Lambs, The (1991)    63299\n",
       "Jurassic Park (1993)                59715\n",
       "Name: title, dtype: int64"
      ]
     },
     "execution_count": 5,
     "metadata": {},
     "output_type": "execute_result"
    }
   ],
   "source": [
    "# comments made on movie:\n",
    "df[\"title\"].value_counts().head()"
   ]
  },
  {
   "cell_type": "code",
   "execution_count": 6,
   "id": "demonstrated-royalty",
   "metadata": {
    "colab": {
     "base_uri": "https://localhost:8080/"
    },
    "execution": {
     "iopub.execute_input": "2021-06-15T13:18:10.711081Z",
     "iopub.status.busy": "2021-06-15T13:18:08.997131Z",
     "iopub.status.idle": "2021-06-15T13:18:17.236281Z",
     "shell.execute_reply": "2021-06-15T13:18:17.235620Z",
     "shell.execute_reply.started": "2021-06-15T13:03:04.089373Z"
    },
    "id": "demonstrated-royalty",
    "outputId": "9870fd30-ec03-415e-fb28-0f21827b82bb",
    "papermill": {
     "duration": 10.546058,
     "end_time": "2021-06-15T13:18:17.236462",
     "exception": false,
     "start_time": "2021-06-15T13:18:06.690404",
     "status": "completed"
    },
    "tags": []
   },
   "outputs": [
    {
     "data": {
      "text/plain": [
       "(17766015, 6)"
      ]
     },
     "execution_count": 6,
     "metadata": {},
     "output_type": "execute_result"
    }
   ],
   "source": [
    "# movies with less than 1000 reviews:\n",
    "comment_counts = pd.DataFrame(df[\"title\"].value_counts())\n",
    "rare_movies = comment_counts[comment_counts[\"title\"] <= 1000].index\n",
    "\n",
    "# movies with over 1000 reviews:\n",
    "common_movies = df[~df[\"title\"].isin(rare_movies)]\n",
    "common_movies.shape"
   ]
  },
  {
   "cell_type": "code",
   "execution_count": 7,
   "id": "educated-oxygen",
   "metadata": {
    "colab": {
     "base_uri": "https://localhost:8080/"
    },
    "execution": {
     "iopub.execute_input": "2021-06-15T13:18:18.842393Z",
     "iopub.status.busy": "2021-06-15T13:18:18.841313Z",
     "iopub.status.idle": "2021-06-15T13:18:20.808483Z",
     "shell.execute_reply": "2021-06-15T13:18:20.807609Z",
     "shell.execute_reply.started": "2021-06-15T13:03:32.893603Z"
    },
    "id": "educated-oxygen",
    "outputId": "6ec4f260-d343-4865-f103-3783eae4e446",
    "papermill": {
     "duration": 3.537826,
     "end_time": "2021-06-15T13:18:20.808632",
     "exception": false,
     "start_time": "2021-06-15T13:18:17.270806",
     "status": "completed"
    },
    "tags": []
   },
   "outputs": [
    {
     "data": {
      "text/plain": [
       "3159"
      ]
     },
     "execution_count": 7,
     "metadata": {},
     "output_type": "execute_result"
    }
   ],
   "source": [
    "# Unique movies with more than 1000 reviews:\n",
    "common_movies[\"title\"].nunique()"
   ]
  },
  {
   "cell_type": "code",
   "execution_count": 8,
   "id": "crude-substance",
   "metadata": {
    "colab": {
     "base_uri": "https://localhost:8080/"
    },
    "execution": {
     "iopub.execute_input": "2021-06-15T13:18:21.205447Z",
     "iopub.status.busy": "2021-06-15T13:18:20.977695Z",
     "iopub.status.idle": "2021-06-15T13:18:50.125604Z",
     "shell.execute_reply": "2021-06-15T13:18:50.125058Z",
     "shell.execute_reply.started": "2021-06-15T13:03:49.833948Z"
    },
    "id": "crude-substance",
    "outputId": "4cbc7c7d-7ed6-4a9c-8a8e-f655cd0bde80",
    "papermill": {
     "duration": 29.282805,
     "end_time": "2021-06-15T13:18:50.125756",
     "exception": false,
     "start_time": "2021-06-15T13:18:20.842951",
     "status": "completed"
    },
    "tags": []
   },
   "outputs": [
    {
     "data": {
      "text/plain": [
       "(138493, 3159)"
      ]
     },
     "execution_count": 8,
     "metadata": {},
     "output_type": "execute_result"
    }
   ],
   "source": [
    "# User Movie Df:\n",
    "user_movie_df = common_movies.pivot_table(index=[\"userId\"], columns=[\"title\"], values=\"rating\")\n",
    "\n",
    "# There are 3159 movies that 138493 users have voted for.\n",
    "user_movie_df.shape"
   ]
  },
  {
   "cell_type": "code",
   "execution_count": 34,
   "id": "vulnerable-joint",
   "metadata": {
    "colab": {
     "base_uri": "https://localhost:8080/",
     "height": 89
    },
    "execution": {
     "iopub.execute_input": "2021-06-15T13:18:50.222198Z",
     "iopub.status.busy": "2021-06-15T13:18:50.213143Z",
     "iopub.status.idle": "2021-06-15T13:18:50.233757Z",
     "shell.execute_reply": "2021-06-15T13:18:50.233093Z",
     "shell.execute_reply.started": "2021-06-15T13:05:28.328267Z"
    },
    "id": "vulnerable-joint",
    "outputId": "141cc67d-bfba-46d1-cbdc-c9b4aac5d6b3",
    "papermill": {
     "duration": 0.073007,
     "end_time": "2021-06-15T13:18:50.233896",
     "exception": false,
     "start_time": "2021-06-15T13:18:50.160889",
     "status": "completed"
    },
    "tags": []
   },
   "outputs": [
    {
     "data": {
      "text/html": [
       "<div>\n",
       "<style scoped>\n",
       "    .dataframe tbody tr th:only-of-type {\n",
       "        vertical-align: middle;\n",
       "    }\n",
       "\n",
       "    .dataframe tbody tr th {\n",
       "        vertical-align: top;\n",
       "    }\n",
       "\n",
       "    .dataframe thead th {\n",
       "        text-align: right;\n",
       "    }\n",
       "</style>\n",
       "<table border=\"1\" class=\"dataframe\">\n",
       "  <thead>\n",
       "    <tr style=\"text-align: right;\">\n",
       "      <th>title</th>\n",
       "      <th>'burbs, The (1989)</th>\n",
       "      <th>(500) Days of Summer (2009)</th>\n",
       "      <th>*batteries not included (1987)</th>\n",
       "      <th>...And Justice for All (1979)</th>\n",
       "      <th>10 Things I Hate About You (1999)</th>\n",
       "      <th>10,000 BC (2008)</th>\n",
       "      <th>101 Dalmatians (1996)</th>\n",
       "      <th>101 Dalmatians (One Hundred and One Dalmatians) (1961)</th>\n",
       "      <th>102 Dalmatians (2000)</th>\n",
       "      <th>12 Angry Men (1957)</th>\n",
       "      <th>...</th>\n",
       "      <th>Zero Dark Thirty (2012)</th>\n",
       "      <th>Zero Effect (1998)</th>\n",
       "      <th>Zodiac (2007)</th>\n",
       "      <th>Zombieland (2009)</th>\n",
       "      <th>Zoolander (2001)</th>\n",
       "      <th>Zulu (1964)</th>\n",
       "      <th>[REC] (2007)</th>\n",
       "      <th>eXistenZ (1999)</th>\n",
       "      <th>xXx (2002)</th>\n",
       "      <th>¡Three Amigos! (1986)</th>\n",
       "    </tr>\n",
       "    <tr>\n",
       "      <th>userId</th>\n",
       "      <th></th>\n",
       "      <th></th>\n",
       "      <th></th>\n",
       "      <th></th>\n",
       "      <th></th>\n",
       "      <th></th>\n",
       "      <th></th>\n",
       "      <th></th>\n",
       "      <th></th>\n",
       "      <th></th>\n",
       "      <th></th>\n",
       "      <th></th>\n",
       "      <th></th>\n",
       "      <th></th>\n",
       "      <th></th>\n",
       "      <th></th>\n",
       "      <th></th>\n",
       "      <th></th>\n",
       "      <th></th>\n",
       "      <th></th>\n",
       "      <th></th>\n",
       "    </tr>\n",
       "  </thead>\n",
       "  <tbody>\n",
       "    <tr>\n",
       "      <th>1.0</th>\n",
       "      <td>NaN</td>\n",
       "      <td>NaN</td>\n",
       "      <td>NaN</td>\n",
       "      <td>NaN</td>\n",
       "      <td>NaN</td>\n",
       "      <td>NaN</td>\n",
       "      <td>NaN</td>\n",
       "      <td>NaN</td>\n",
       "      <td>NaN</td>\n",
       "      <td>NaN</td>\n",
       "      <td>...</td>\n",
       "      <td>NaN</td>\n",
       "      <td>NaN</td>\n",
       "      <td>NaN</td>\n",
       "      <td>NaN</td>\n",
       "      <td>NaN</td>\n",
       "      <td>NaN</td>\n",
       "      <td>NaN</td>\n",
       "      <td>NaN</td>\n",
       "      <td>NaN</td>\n",
       "      <td>NaN</td>\n",
       "    </tr>\n",
       "    <tr>\n",
       "      <th>2.0</th>\n",
       "      <td>NaN</td>\n",
       "      <td>NaN</td>\n",
       "      <td>NaN</td>\n",
       "      <td>NaN</td>\n",
       "      <td>NaN</td>\n",
       "      <td>NaN</td>\n",
       "      <td>NaN</td>\n",
       "      <td>NaN</td>\n",
       "      <td>NaN</td>\n",
       "      <td>NaN</td>\n",
       "      <td>...</td>\n",
       "      <td>NaN</td>\n",
       "      <td>NaN</td>\n",
       "      <td>NaN</td>\n",
       "      <td>NaN</td>\n",
       "      <td>NaN</td>\n",
       "      <td>NaN</td>\n",
       "      <td>NaN</td>\n",
       "      <td>NaN</td>\n",
       "      <td>NaN</td>\n",
       "      <td>NaN</td>\n",
       "    </tr>\n",
       "    <tr>\n",
       "      <th>3.0</th>\n",
       "      <td>NaN</td>\n",
       "      <td>NaN</td>\n",
       "      <td>NaN</td>\n",
       "      <td>NaN</td>\n",
       "      <td>NaN</td>\n",
       "      <td>NaN</td>\n",
       "      <td>NaN</td>\n",
       "      <td>NaN</td>\n",
       "      <td>NaN</td>\n",
       "      <td>NaN</td>\n",
       "      <td>...</td>\n",
       "      <td>NaN</td>\n",
       "      <td>NaN</td>\n",
       "      <td>NaN</td>\n",
       "      <td>NaN</td>\n",
       "      <td>NaN</td>\n",
       "      <td>NaN</td>\n",
       "      <td>NaN</td>\n",
       "      <td>NaN</td>\n",
       "      <td>NaN</td>\n",
       "      <td>NaN</td>\n",
       "    </tr>\n",
       "    <tr>\n",
       "      <th>4.0</th>\n",
       "      <td>NaN</td>\n",
       "      <td>NaN</td>\n",
       "      <td>NaN</td>\n",
       "      <td>NaN</td>\n",
       "      <td>NaN</td>\n",
       "      <td>NaN</td>\n",
       "      <td>NaN</td>\n",
       "      <td>NaN</td>\n",
       "      <td>NaN</td>\n",
       "      <td>NaN</td>\n",
       "      <td>...</td>\n",
       "      <td>NaN</td>\n",
       "      <td>NaN</td>\n",
       "      <td>NaN</td>\n",
       "      <td>NaN</td>\n",
       "      <td>NaN</td>\n",
       "      <td>NaN</td>\n",
       "      <td>NaN</td>\n",
       "      <td>NaN</td>\n",
       "      <td>NaN</td>\n",
       "      <td>NaN</td>\n",
       "    </tr>\n",
       "    <tr>\n",
       "      <th>5.0</th>\n",
       "      <td>NaN</td>\n",
       "      <td>NaN</td>\n",
       "      <td>NaN</td>\n",
       "      <td>NaN</td>\n",
       "      <td>NaN</td>\n",
       "      <td>NaN</td>\n",
       "      <td>NaN</td>\n",
       "      <td>NaN</td>\n",
       "      <td>NaN</td>\n",
       "      <td>NaN</td>\n",
       "      <td>...</td>\n",
       "      <td>NaN</td>\n",
       "      <td>NaN</td>\n",
       "      <td>NaN</td>\n",
       "      <td>NaN</td>\n",
       "      <td>NaN</td>\n",
       "      <td>NaN</td>\n",
       "      <td>NaN</td>\n",
       "      <td>NaN</td>\n",
       "      <td>NaN</td>\n",
       "      <td>NaN</td>\n",
       "    </tr>\n",
       "    <tr>\n",
       "      <th>6.0</th>\n",
       "      <td>NaN</td>\n",
       "      <td>NaN</td>\n",
       "      <td>NaN</td>\n",
       "      <td>NaN</td>\n",
       "      <td>NaN</td>\n",
       "      <td>NaN</td>\n",
       "      <td>NaN</td>\n",
       "      <td>NaN</td>\n",
       "      <td>NaN</td>\n",
       "      <td>NaN</td>\n",
       "      <td>...</td>\n",
       "      <td>NaN</td>\n",
       "      <td>NaN</td>\n",
       "      <td>NaN</td>\n",
       "      <td>NaN</td>\n",
       "      <td>NaN</td>\n",
       "      <td>NaN</td>\n",
       "      <td>NaN</td>\n",
       "      <td>NaN</td>\n",
       "      <td>NaN</td>\n",
       "      <td>NaN</td>\n",
       "    </tr>\n",
       "    <tr>\n",
       "      <th>7.0</th>\n",
       "      <td>NaN</td>\n",
       "      <td>NaN</td>\n",
       "      <td>NaN</td>\n",
       "      <td>NaN</td>\n",
       "      <td>NaN</td>\n",
       "      <td>NaN</td>\n",
       "      <td>NaN</td>\n",
       "      <td>NaN</td>\n",
       "      <td>NaN</td>\n",
       "      <td>NaN</td>\n",
       "      <td>...</td>\n",
       "      <td>NaN</td>\n",
       "      <td>NaN</td>\n",
       "      <td>NaN</td>\n",
       "      <td>NaN</td>\n",
       "      <td>NaN</td>\n",
       "      <td>NaN</td>\n",
       "      <td>NaN</td>\n",
       "      <td>NaN</td>\n",
       "      <td>NaN</td>\n",
       "      <td>2.0</td>\n",
       "    </tr>\n",
       "    <tr>\n",
       "      <th>8.0</th>\n",
       "      <td>NaN</td>\n",
       "      <td>NaN</td>\n",
       "      <td>NaN</td>\n",
       "      <td>NaN</td>\n",
       "      <td>NaN</td>\n",
       "      <td>NaN</td>\n",
       "      <td>NaN</td>\n",
       "      <td>NaN</td>\n",
       "      <td>NaN</td>\n",
       "      <td>NaN</td>\n",
       "      <td>...</td>\n",
       "      <td>NaN</td>\n",
       "      <td>NaN</td>\n",
       "      <td>NaN</td>\n",
       "      <td>NaN</td>\n",
       "      <td>NaN</td>\n",
       "      <td>NaN</td>\n",
       "      <td>NaN</td>\n",
       "      <td>NaN</td>\n",
       "      <td>NaN</td>\n",
       "      <td>NaN</td>\n",
       "    </tr>\n",
       "    <tr>\n",
       "      <th>9.0</th>\n",
       "      <td>NaN</td>\n",
       "      <td>NaN</td>\n",
       "      <td>NaN</td>\n",
       "      <td>NaN</td>\n",
       "      <td>NaN</td>\n",
       "      <td>NaN</td>\n",
       "      <td>NaN</td>\n",
       "      <td>NaN</td>\n",
       "      <td>NaN</td>\n",
       "      <td>NaN</td>\n",
       "      <td>...</td>\n",
       "      <td>NaN</td>\n",
       "      <td>NaN</td>\n",
       "      <td>NaN</td>\n",
       "      <td>NaN</td>\n",
       "      <td>NaN</td>\n",
       "      <td>NaN</td>\n",
       "      <td>NaN</td>\n",
       "      <td>NaN</td>\n",
       "      <td>NaN</td>\n",
       "      <td>NaN</td>\n",
       "    </tr>\n",
       "    <tr>\n",
       "      <th>10.0</th>\n",
       "      <td>NaN</td>\n",
       "      <td>NaN</td>\n",
       "      <td>NaN</td>\n",
       "      <td>NaN</td>\n",
       "      <td>NaN</td>\n",
       "      <td>NaN</td>\n",
       "      <td>NaN</td>\n",
       "      <td>NaN</td>\n",
       "      <td>NaN</td>\n",
       "      <td>NaN</td>\n",
       "      <td>...</td>\n",
       "      <td>NaN</td>\n",
       "      <td>NaN</td>\n",
       "      <td>NaN</td>\n",
       "      <td>NaN</td>\n",
       "      <td>NaN</td>\n",
       "      <td>NaN</td>\n",
       "      <td>NaN</td>\n",
       "      <td>NaN</td>\n",
       "      <td>NaN</td>\n",
       "      <td>NaN</td>\n",
       "    </tr>\n",
       "    <tr>\n",
       "      <th>11.0</th>\n",
       "      <td>NaN</td>\n",
       "      <td>NaN</td>\n",
       "      <td>5.0</td>\n",
       "      <td>NaN</td>\n",
       "      <td>5.0</td>\n",
       "      <td>4.5</td>\n",
       "      <td>3.5</td>\n",
       "      <td>NaN</td>\n",
       "      <td>3.0</td>\n",
       "      <td>NaN</td>\n",
       "      <td>...</td>\n",
       "      <td>NaN</td>\n",
       "      <td>NaN</td>\n",
       "      <td>NaN</td>\n",
       "      <td>NaN</td>\n",
       "      <td>NaN</td>\n",
       "      <td>NaN</td>\n",
       "      <td>NaN</td>\n",
       "      <td>5.0</td>\n",
       "      <td>NaN</td>\n",
       "      <td>NaN</td>\n",
       "    </tr>\n",
       "    <tr>\n",
       "      <th>12.0</th>\n",
       "      <td>NaN</td>\n",
       "      <td>NaN</td>\n",
       "      <td>NaN</td>\n",
       "      <td>NaN</td>\n",
       "      <td>NaN</td>\n",
       "      <td>NaN</td>\n",
       "      <td>NaN</td>\n",
       "      <td>NaN</td>\n",
       "      <td>NaN</td>\n",
       "      <td>NaN</td>\n",
       "      <td>...</td>\n",
       "      <td>NaN</td>\n",
       "      <td>NaN</td>\n",
       "      <td>NaN</td>\n",
       "      <td>NaN</td>\n",
       "      <td>NaN</td>\n",
       "      <td>NaN</td>\n",
       "      <td>NaN</td>\n",
       "      <td>NaN</td>\n",
       "      <td>NaN</td>\n",
       "      <td>NaN</td>\n",
       "    </tr>\n",
       "  </tbody>\n",
       "</table>\n",
       "<p>12 rows × 3159 columns</p>\n",
       "</div>"
      ],
      "text/plain": [
       "title   'burbs, The (1989)  (500) Days of Summer (2009)  \\\n",
       "userId                                                    \n",
       "1.0                    NaN                          NaN   \n",
       "2.0                    NaN                          NaN   \n",
       "3.0                    NaN                          NaN   \n",
       "4.0                    NaN                          NaN   \n",
       "5.0                    NaN                          NaN   \n",
       "6.0                    NaN                          NaN   \n",
       "7.0                    NaN                          NaN   \n",
       "8.0                    NaN                          NaN   \n",
       "9.0                    NaN                          NaN   \n",
       "10.0                   NaN                          NaN   \n",
       "11.0                   NaN                          NaN   \n",
       "12.0                   NaN                          NaN   \n",
       "\n",
       "title   *batteries not included (1987)  ...And Justice for All (1979)  \\\n",
       "userId                                                                  \n",
       "1.0                                NaN                            NaN   \n",
       "2.0                                NaN                            NaN   \n",
       "3.0                                NaN                            NaN   \n",
       "4.0                                NaN                            NaN   \n",
       "5.0                                NaN                            NaN   \n",
       "6.0                                NaN                            NaN   \n",
       "7.0                                NaN                            NaN   \n",
       "8.0                                NaN                            NaN   \n",
       "9.0                                NaN                            NaN   \n",
       "10.0                               NaN                            NaN   \n",
       "11.0                               5.0                            NaN   \n",
       "12.0                               NaN                            NaN   \n",
       "\n",
       "title   10 Things I Hate About You (1999)  10,000 BC (2008)  \\\n",
       "userId                                                        \n",
       "1.0                                   NaN               NaN   \n",
       "2.0                                   NaN               NaN   \n",
       "3.0                                   NaN               NaN   \n",
       "4.0                                   NaN               NaN   \n",
       "5.0                                   NaN               NaN   \n",
       "6.0                                   NaN               NaN   \n",
       "7.0                                   NaN               NaN   \n",
       "8.0                                   NaN               NaN   \n",
       "9.0                                   NaN               NaN   \n",
       "10.0                                  NaN               NaN   \n",
       "11.0                                  5.0               4.5   \n",
       "12.0                                  NaN               NaN   \n",
       "\n",
       "title   101 Dalmatians (1996)  \\\n",
       "userId                          \n",
       "1.0                       NaN   \n",
       "2.0                       NaN   \n",
       "3.0                       NaN   \n",
       "4.0                       NaN   \n",
       "5.0                       NaN   \n",
       "6.0                       NaN   \n",
       "7.0                       NaN   \n",
       "8.0                       NaN   \n",
       "9.0                       NaN   \n",
       "10.0                      NaN   \n",
       "11.0                      3.5   \n",
       "12.0                      NaN   \n",
       "\n",
       "title   101 Dalmatians (One Hundred and One Dalmatians) (1961)  \\\n",
       "userId                                                           \n",
       "1.0                                                   NaN        \n",
       "2.0                                                   NaN        \n",
       "3.0                                                   NaN        \n",
       "4.0                                                   NaN        \n",
       "5.0                                                   NaN        \n",
       "6.0                                                   NaN        \n",
       "7.0                                                   NaN        \n",
       "8.0                                                   NaN        \n",
       "9.0                                                   NaN        \n",
       "10.0                                                  NaN        \n",
       "11.0                                                  NaN        \n",
       "12.0                                                  NaN        \n",
       "\n",
       "title   102 Dalmatians (2000)  12 Angry Men (1957)  ...  \\\n",
       "userId                                              ...   \n",
       "1.0                       NaN                  NaN  ...   \n",
       "2.0                       NaN                  NaN  ...   \n",
       "3.0                       NaN                  NaN  ...   \n",
       "4.0                       NaN                  NaN  ...   \n",
       "5.0                       NaN                  NaN  ...   \n",
       "6.0                       NaN                  NaN  ...   \n",
       "7.0                       NaN                  NaN  ...   \n",
       "8.0                       NaN                  NaN  ...   \n",
       "9.0                       NaN                  NaN  ...   \n",
       "10.0                      NaN                  NaN  ...   \n",
       "11.0                      3.0                  NaN  ...   \n",
       "12.0                      NaN                  NaN  ...   \n",
       "\n",
       "title   Zero Dark Thirty (2012)  Zero Effect (1998)  Zodiac (2007)  \\\n",
       "userId                                                               \n",
       "1.0                         NaN                 NaN            NaN   \n",
       "2.0                         NaN                 NaN            NaN   \n",
       "3.0                         NaN                 NaN            NaN   \n",
       "4.0                         NaN                 NaN            NaN   \n",
       "5.0                         NaN                 NaN            NaN   \n",
       "6.0                         NaN                 NaN            NaN   \n",
       "7.0                         NaN                 NaN            NaN   \n",
       "8.0                         NaN                 NaN            NaN   \n",
       "9.0                         NaN                 NaN            NaN   \n",
       "10.0                        NaN                 NaN            NaN   \n",
       "11.0                        NaN                 NaN            NaN   \n",
       "12.0                        NaN                 NaN            NaN   \n",
       "\n",
       "title   Zombieland (2009)  Zoolander (2001)  Zulu (1964)  [REC] (2007)  \\\n",
       "userId                                                                   \n",
       "1.0                   NaN               NaN          NaN           NaN   \n",
       "2.0                   NaN               NaN          NaN           NaN   \n",
       "3.0                   NaN               NaN          NaN           NaN   \n",
       "4.0                   NaN               NaN          NaN           NaN   \n",
       "5.0                   NaN               NaN          NaN           NaN   \n",
       "6.0                   NaN               NaN          NaN           NaN   \n",
       "7.0                   NaN               NaN          NaN           NaN   \n",
       "8.0                   NaN               NaN          NaN           NaN   \n",
       "9.0                   NaN               NaN          NaN           NaN   \n",
       "10.0                  NaN               NaN          NaN           NaN   \n",
       "11.0                  NaN               NaN          NaN           NaN   \n",
       "12.0                  NaN               NaN          NaN           NaN   \n",
       "\n",
       "title   eXistenZ (1999)  xXx (2002)  ¡Three Amigos! (1986)  \n",
       "userId                                                      \n",
       "1.0                 NaN         NaN                    NaN  \n",
       "2.0                 NaN         NaN                    NaN  \n",
       "3.0                 NaN         NaN                    NaN  \n",
       "4.0                 NaN         NaN                    NaN  \n",
       "5.0                 NaN         NaN                    NaN  \n",
       "6.0                 NaN         NaN                    NaN  \n",
       "7.0                 NaN         NaN                    2.0  \n",
       "8.0                 NaN         NaN                    NaN  \n",
       "9.0                 NaN         NaN                    NaN  \n",
       "10.0                NaN         NaN                    NaN  \n",
       "11.0                5.0         NaN                    NaN  \n",
       "12.0                NaN         NaN                    NaN  \n",
       "\n",
       "[12 rows x 3159 columns]"
      ]
     },
     "execution_count": 34,
     "metadata": {},
     "output_type": "execute_result"
    }
   ],
   "source": [
    "user_movie_df.head(12)"
   ]
  },
  {
   "cell_type": "code",
   "execution_count": 10,
   "id": "77CmbWYMkOzQ",
   "metadata": {
    "id": "77CmbWYMkOzQ"
   },
   "outputs": [
    {
     "data": {
      "text/plain": [
       "title\n",
       "Matrix, The (1999)                                           1.000000\n",
       "Matrix Reloaded, The (2003)                                  0.516906\n",
       "Matrix Revolutions, The (2003)                               0.449588\n",
       "Animatrix, The (2003)                                        0.367151\n",
       "Blade (1998)                                                 0.334493\n",
       "Terminator 2: Judgment Day (1991)                            0.333882\n",
       "Minority Report (2002)                                       0.332434\n",
       "Edge of Tomorrow (2014)                                      0.326762\n",
       "Mission: Impossible (1996)                                   0.320815\n",
       "Lord of the Rings: The Fellowship of the Ring, The (2001)    0.318726\n",
       "dtype: float64"
      ]
     },
     "execution_count": 10,
     "metadata": {},
     "output_type": "execute_result"
    }
   ],
   "source": [
    "# item-based movie recommendation example:\n",
    "movie_name = \"Matrix, The (1999)\"\n",
    "movie_name = user_movie_df[movie_name]\n",
    "user_movie_df.corrwith(movie_name).sort_values(ascending=False).head(10)"
   ]
  },
  {
   "cell_type": "code",
   "execution_count": 11,
   "id": "becoming-novel",
   "metadata": {
    "execution": {
     "iopub.execute_input": "2021-06-15T13:19:03.235582Z",
     "iopub.status.busy": "2021-06-15T13:19:03.234764Z",
     "iopub.status.idle": "2021-06-15T13:19:03.237420Z",
     "shell.execute_reply": "2021-06-15T13:19:03.236923Z",
     "shell.execute_reply.started": "2021-06-15T13:07:08.459913Z"
    },
    "id": "becoming-novel",
    "papermill": {
     "duration": 0.044265,
     "end_time": "2021-06-15T13:19:03.237559",
     "exception": false,
     "start_time": "2021-06-15T13:19:03.193294",
     "status": "completed"
    },
    "tags": []
   },
   "outputs": [],
   "source": [
    "# movies that the user watched.\n",
    "\n",
    "# Lets choose random user\n",
    "# random_user = int(pd.Series(user_movie_df.index).sample(1, random_state=45).values)\n",
    "random_user = 28491"
   ]
  },
  {
   "cell_type": "code",
   "execution_count": 12,
   "id": "biological-collection",
   "metadata": {
    "execution": {
     "iopub.execute_input": "2021-06-15T13:19:03.315946Z",
     "iopub.status.busy": "2021-06-15T13:19:03.315234Z",
     "iopub.status.idle": "2021-06-15T13:19:03.338214Z",
     "shell.execute_reply": "2021-06-15T13:19:03.337699Z",
     "shell.execute_reply.started": "2021-06-15T13:07:45.562481Z"
    },
    "id": "biological-collection",
    "outputId": "e8540361-5110-4f27-944f-8263654821fa",
    "papermill": {
     "duration": 0.064513,
     "end_time": "2021-06-15T13:19:03.338388",
     "exception": false,
     "start_time": "2021-06-15T13:19:03.273875",
     "status": "completed"
    },
    "tags": []
   },
   "outputs": [
    {
     "data": {
      "text/html": [
       "<div>\n",
       "<style scoped>\n",
       "    .dataframe tbody tr th:only-of-type {\n",
       "        vertical-align: middle;\n",
       "    }\n",
       "\n",
       "    .dataframe tbody tr th {\n",
       "        vertical-align: top;\n",
       "    }\n",
       "\n",
       "    .dataframe thead th {\n",
       "        text-align: right;\n",
       "    }\n",
       "</style>\n",
       "<table border=\"1\" class=\"dataframe\">\n",
       "  <thead>\n",
       "    <tr style=\"text-align: right;\">\n",
       "      <th>title</th>\n",
       "      <th>'burbs, The (1989)</th>\n",
       "      <th>(500) Days of Summer (2009)</th>\n",
       "      <th>*batteries not included (1987)</th>\n",
       "      <th>...And Justice for All (1979)</th>\n",
       "      <th>10 Things I Hate About You (1999)</th>\n",
       "      <th>10,000 BC (2008)</th>\n",
       "      <th>101 Dalmatians (1996)</th>\n",
       "      <th>101 Dalmatians (One Hundred and One Dalmatians) (1961)</th>\n",
       "      <th>102 Dalmatians (2000)</th>\n",
       "      <th>12 Angry Men (1957)</th>\n",
       "      <th>...</th>\n",
       "      <th>Zero Dark Thirty (2012)</th>\n",
       "      <th>Zero Effect (1998)</th>\n",
       "      <th>Zodiac (2007)</th>\n",
       "      <th>Zombieland (2009)</th>\n",
       "      <th>Zoolander (2001)</th>\n",
       "      <th>Zulu (1964)</th>\n",
       "      <th>[REC] (2007)</th>\n",
       "      <th>eXistenZ (1999)</th>\n",
       "      <th>xXx (2002)</th>\n",
       "      <th>¡Three Amigos! (1986)</th>\n",
       "    </tr>\n",
       "    <tr>\n",
       "      <th>userId</th>\n",
       "      <th></th>\n",
       "      <th></th>\n",
       "      <th></th>\n",
       "      <th></th>\n",
       "      <th></th>\n",
       "      <th></th>\n",
       "      <th></th>\n",
       "      <th></th>\n",
       "      <th></th>\n",
       "      <th></th>\n",
       "      <th></th>\n",
       "      <th></th>\n",
       "      <th></th>\n",
       "      <th></th>\n",
       "      <th></th>\n",
       "      <th></th>\n",
       "      <th></th>\n",
       "      <th></th>\n",
       "      <th></th>\n",
       "      <th></th>\n",
       "      <th></th>\n",
       "    </tr>\n",
       "  </thead>\n",
       "  <tbody>\n",
       "    <tr>\n",
       "      <th>28491.0</th>\n",
       "      <td>NaN</td>\n",
       "      <td>NaN</td>\n",
       "      <td>NaN</td>\n",
       "      <td>NaN</td>\n",
       "      <td>NaN</td>\n",
       "      <td>NaN</td>\n",
       "      <td>NaN</td>\n",
       "      <td>NaN</td>\n",
       "      <td>NaN</td>\n",
       "      <td>NaN</td>\n",
       "      <td>...</td>\n",
       "      <td>NaN</td>\n",
       "      <td>NaN</td>\n",
       "      <td>NaN</td>\n",
       "      <td>NaN</td>\n",
       "      <td>NaN</td>\n",
       "      <td>NaN</td>\n",
       "      <td>NaN</td>\n",
       "      <td>NaN</td>\n",
       "      <td>NaN</td>\n",
       "      <td>NaN</td>\n",
       "    </tr>\n",
       "  </tbody>\n",
       "</table>\n",
       "<p>1 rows × 3159 columns</p>\n",
       "</div>"
      ],
      "text/plain": [
       "title    'burbs, The (1989)  (500) Days of Summer (2009)  \\\n",
       "userId                                                     \n",
       "28491.0                 NaN                          NaN   \n",
       "\n",
       "title    *batteries not included (1987)  ...And Justice for All (1979)  \\\n",
       "userId                                                                   \n",
       "28491.0                             NaN                            NaN   \n",
       "\n",
       "title    10 Things I Hate About You (1999)  10,000 BC (2008)  \\\n",
       "userId                                                         \n",
       "28491.0                                NaN               NaN   \n",
       "\n",
       "title    101 Dalmatians (1996)  \\\n",
       "userId                           \n",
       "28491.0                    NaN   \n",
       "\n",
       "title    101 Dalmatians (One Hundred and One Dalmatians) (1961)  \\\n",
       "userId                                                            \n",
       "28491.0                                                NaN        \n",
       "\n",
       "title    102 Dalmatians (2000)  12 Angry Men (1957)  ...  \\\n",
       "userId                                               ...   \n",
       "28491.0                    NaN                  NaN  ...   \n",
       "\n",
       "title    Zero Dark Thirty (2012)  Zero Effect (1998)  Zodiac (2007)  \\\n",
       "userId                                                                \n",
       "28491.0                      NaN                 NaN            NaN   \n",
       "\n",
       "title    Zombieland (2009)  Zoolander (2001)  Zulu (1964)  [REC] (2007)  \\\n",
       "userId                                                                    \n",
       "28491.0                NaN               NaN          NaN           NaN   \n",
       "\n",
       "title    eXistenZ (1999)  xXx (2002)  ¡Three Amigos! (1986)  \n",
       "userId                                                       \n",
       "28491.0              NaN         NaN                    NaN  \n",
       "\n",
       "[1 rows x 3159 columns]"
      ]
     },
     "execution_count": 12,
     "metadata": {},
     "output_type": "execute_result"
    }
   ],
   "source": [
    "# Let's reduce the #dataset to user 28491:\n",
    "random_user_df = user_movie_df[user_movie_df.index == random_user]\n",
    "random_user_df"
   ]
  },
  {
   "cell_type": "code",
   "execution_count": 13,
   "id": "unavailable-apache",
   "metadata": {
    "execution": {
     "iopub.execute_input": "2021-06-15T13:19:03.427664Z",
     "iopub.status.busy": "2021-06-15T13:19:03.417175Z",
     "iopub.status.idle": "2021-06-15T13:19:03.434744Z",
     "shell.execute_reply": "2021-06-15T13:19:03.434175Z",
     "shell.execute_reply.started": "2021-06-15T13:08:04.976628Z"
    },
    "id": "unavailable-apache",
    "outputId": "8d275e19-3f1b-4c81-c430-92d3fc321267",
    "papermill": {
     "duration": 0.05957,
     "end_time": "2021-06-15T13:19:03.434895",
     "exception": false,
     "start_time": "2021-06-15T13:19:03.375325",
     "status": "completed"
    },
    "tags": []
   },
   "outputs": [
    {
     "data": {
      "text/plain": [
       "['28 Days (2000)',\n",
       " 'Blade Runner (1982)',\n",
       " 'Braveheart (1995)',\n",
       " 'Carrie (1976)',\n",
       " 'Deliverance (1972)',\n",
       " 'Escape from the Planet of the Apes (1971)',\n",
       " 'Fight Club (1999)',\n",
       " 'Gladiator (2000)',\n",
       " 'Hancock (2008)',\n",
       " 'Highlander III: The Sorcerer (a.k.a. Highlander: The Final Dimension) (1994)',\n",
       " 'Iron Man (2008)',\n",
       " 'King Kong (2005)',\n",
       " 'Lethal Weapon 4 (1998)',\n",
       " 'Money Train (1995)',\n",
       " 'Poltergeist (1982)',\n",
       " 'Shawshank Redemption, The (1994)',\n",
       " 'Spice World (1997)',\n",
       " 'Star Trek V: The Final Frontier (1989)',\n",
       " 'Star Trek: Insurrection (1998)',\n",
       " 'Westworld (1973)',\n",
       " \"White Men Can't Jump (1992)\",\n",
       " 'Young Guns (1988)']"
      ]
     },
     "execution_count": 13,
     "metadata": {},
     "output_type": "execute_result"
    }
   ],
   "source": [
    "# choose non-NaN. Movies watched 28491:\n",
    "movies_watched = random_user_df.columns[random_user_df.notna().any()].tolist()\n",
    "movies_watched"
   ]
  },
  {
   "cell_type": "code",
   "execution_count": 14,
   "id": "impaired-virgin",
   "metadata": {
    "execution": {
     "iopub.execute_input": "2021-06-15T13:19:03.514858Z",
     "iopub.status.busy": "2021-06-15T13:19:03.514107Z",
     "iopub.status.idle": "2021-06-15T13:19:03.523883Z",
     "shell.execute_reply": "2021-06-15T13:19:03.523323Z",
     "shell.execute_reply.started": "2021-06-15T13:09:43.618018Z"
    },
    "id": "impaired-virgin",
    "outputId": "87a26eb4-242c-4f4a-ac68-1ff0e536bcda",
    "papermill": {
     "duration": 0.051757,
     "end_time": "2021-06-15T13:19:03.524019",
     "exception": false,
     "start_time": "2021-06-15T13:19:03.472262",
     "status": "completed"
    },
    "tags": []
   },
   "outputs": [
    {
     "data": {
      "text/html": [
       "<div>\n",
       "<style scoped>\n",
       "    .dataframe tbody tr th:only-of-type {\n",
       "        vertical-align: middle;\n",
       "    }\n",
       "\n",
       "    .dataframe tbody tr th {\n",
       "        vertical-align: top;\n",
       "    }\n",
       "\n",
       "    .dataframe thead th {\n",
       "        text-align: right;\n",
       "    }\n",
       "</style>\n",
       "<table border=\"1\" class=\"dataframe\">\n",
       "  <thead>\n",
       "    <tr style=\"text-align: right;\">\n",
       "      <th>title</th>\n",
       "      <th>Young Guns (1988)</th>\n",
       "    </tr>\n",
       "    <tr>\n",
       "      <th>userId</th>\n",
       "      <th></th>\n",
       "    </tr>\n",
       "  </thead>\n",
       "  <tbody>\n",
       "    <tr>\n",
       "      <th>28491.0</th>\n",
       "      <td>3.0</td>\n",
       "    </tr>\n",
       "  </tbody>\n",
       "</table>\n",
       "</div>"
      ],
      "text/plain": [
       "title    Young Guns (1988)\n",
       "userId                    \n",
       "28491.0                3.0"
      ]
     },
     "execution_count": 14,
     "metadata": {},
     "output_type": "execute_result"
    }
   ],
   "source": [
    "#lets verify:\n",
    "user_movie_df.loc[user_movie_df.index == random_user, user_movie_df.columns == \"Young Guns (1988)\"]"
   ]
  },
  {
   "cell_type": "code",
   "execution_count": 15,
   "id": "caroline-expression",
   "metadata": {
    "execution": {
     "iopub.execute_input": "2021-06-15T13:19:03.603024Z",
     "iopub.status.busy": "2021-06-15T13:19:03.602337Z",
     "iopub.status.idle": "2021-06-15T13:19:03.608161Z",
     "shell.execute_reply": "2021-06-15T13:19:03.607565Z",
     "shell.execute_reply.started": "2021-06-15T13:09:58.438530Z"
    },
    "id": "caroline-expression",
    "outputId": "f350dc6b-6f72-4c4c-bf5e-31b212739302",
    "papermill": {
     "duration": 0.046069,
     "end_time": "2021-06-15T13:19:03.608309",
     "exception": false,
     "start_time": "2021-06-15T13:19:03.562240",
     "status": "completed"
    },
    "tags": []
   },
   "outputs": [
    {
     "data": {
      "text/plain": [
       "22"
      ]
     },
     "execution_count": 15,
     "metadata": {},
     "output_type": "execute_result"
    }
   ],
   "source": [
    "# movies #28491 watched:\n",
    "len(movies_watched)"
   ]
  },
  {
   "cell_type": "code",
   "execution_count": 36,
   "id": "consecutive-ancient",
   "metadata": {
    "execution": {
     "iopub.execute_input": "2021-06-15T13:19:03.731323Z",
     "iopub.status.busy": "2021-06-15T13:19:03.730397Z",
     "iopub.status.idle": "2021-06-15T13:19:03.734282Z",
     "shell.execute_reply": "2021-06-15T13:19:03.734745Z",
     "shell.execute_reply.started": "2021-06-15T13:10:14.969211Z"
    },
    "id": "consecutive-ancient",
    "outputId": "796607eb-7bd4-45f3-c28a-3bab78d768bc",
    "papermill": {
     "duration": 0.088551,
     "end_time": "2021-06-15T13:19:03.734931",
     "exception": false,
     "start_time": "2021-06-15T13:19:03.646380",
     "status": "completed"
    },
    "tags": []
   },
   "outputs": [
    {
     "data": {
      "text/plain": [
       "(138493, 22)"
      ]
     },
     "execution_count": 36,
     "metadata": {},
     "output_type": "execute_result"
    }
   ],
   "source": [
    "# we have reduced the dataset based on movies watched by user 28491:\n",
    "movies_watched_df = user_movie_df[movies_watched]\n",
    "movies_watched_df.head()\n",
    "movies_watched_df.shape"
   ]
  },
  {
   "cell_type": "code",
   "execution_count": 17,
   "id": "based-fever",
   "metadata": {
    "execution": {
     "iopub.execute_input": "2021-06-15T13:19:03.818669Z",
     "iopub.status.busy": "2021-06-15T13:19:03.817426Z",
     "iopub.status.idle": "2021-06-15T13:19:04.248163Z",
     "shell.execute_reply": "2021-06-15T13:19:04.248664Z",
     "shell.execute_reply.started": "2021-06-15T13:10:36.314123Z"
    },
    "id": "based-fever",
    "outputId": "3e593390-de0c-49b8-eb4c-29c81f80efff",
    "papermill": {
     "duration": 0.475747,
     "end_time": "2021-06-15T13:19:04.248861",
     "exception": false,
     "start_time": "2021-06-15T13:19:03.773114",
     "status": "completed"
    },
    "tags": []
   },
   "outputs": [
    {
     "data": {
      "text/html": [
       "<div>\n",
       "<style scoped>\n",
       "    .dataframe tbody tr th:only-of-type {\n",
       "        vertical-align: middle;\n",
       "    }\n",
       "\n",
       "    .dataframe tbody tr th {\n",
       "        vertical-align: top;\n",
       "    }\n",
       "\n",
       "    .dataframe thead th {\n",
       "        text-align: right;\n",
       "    }\n",
       "</style>\n",
       "<table border=\"1\" class=\"dataframe\">\n",
       "  <thead>\n",
       "    <tr style=\"text-align: right;\">\n",
       "      <th></th>\n",
       "      <th>userId</th>\n",
       "      <th>movie_count</th>\n",
       "    </tr>\n",
       "  </thead>\n",
       "  <tbody>\n",
       "    <tr>\n",
       "      <th>0</th>\n",
       "      <td>1.0</td>\n",
       "      <td>4</td>\n",
       "    </tr>\n",
       "    <tr>\n",
       "      <th>1</th>\n",
       "      <td>2.0</td>\n",
       "      <td>3</td>\n",
       "    </tr>\n",
       "    <tr>\n",
       "      <th>2</th>\n",
       "      <td>3.0</td>\n",
       "      <td>5</td>\n",
       "    </tr>\n",
       "    <tr>\n",
       "      <th>3</th>\n",
       "      <td>4.0</td>\n",
       "      <td>0</td>\n",
       "    </tr>\n",
       "    <tr>\n",
       "      <th>4</th>\n",
       "      <td>5.0</td>\n",
       "      <td>2</td>\n",
       "    </tr>\n",
       "  </tbody>\n",
       "</table>\n",
       "</div>"
      ],
      "text/plain": [
       "   userId  movie_count\n",
       "0     1.0            4\n",
       "1     2.0            3\n",
       "2     3.0            5\n",
       "3     4.0            0\n",
       "4     5.0            2"
      ]
     },
     "execution_count": 17,
     "metadata": {},
     "output_type": "execute_result"
    }
   ],
   "source": [
    "# information on how many movies each user watched in total:\n",
    "user_movie_count = movies_watched_df.T.notnull().sum()\n",
    "\n",
    "user_movie_count = user_movie_count.reset_index()\n",
    "user_movie_count.columns = [\"userId\",\"movie_count\"]\n",
    "user_movie_count.head()"
   ]
  },
  {
   "cell_type": "code",
   "execution_count": 18,
   "id": "regional-contact",
   "metadata": {
    "execution": {
     "iopub.execute_input": "2021-06-15T13:19:04.332555Z",
     "iopub.status.busy": "2021-06-15T13:19:04.331553Z",
     "iopub.status.idle": "2021-06-15T13:19:04.340158Z",
     "shell.execute_reply": "2021-06-15T13:19:04.339548Z",
     "shell.execute_reply.started": "2021-06-15T13:11:04.435797Z"
    },
    "id": "regional-contact",
    "outputId": "0c9aab85-296c-4b57-9de3-809964c937e2",
    "papermill": {
     "duration": 0.052541,
     "end_time": "2021-06-15T13:19:04.340295",
     "exception": false,
     "start_time": "2021-06-15T13:19:04.287754",
     "status": "completed"
    },
    "tags": []
   },
   "outputs": [
    {
     "data": {
      "text/plain": [
       "userId         3\n",
       "movie_count    3\n",
       "dtype: int64"
      ]
     },
     "execution_count": 18,
     "metadata": {},
     "output_type": "execute_result"
    }
   ],
   "source": [
    "# 3 user watched 22 movies:\n",
    "user_movie_count[user_movie_count[\"movie_count\"] == 22].count()"
   ]
  },
  {
   "cell_type": "code",
   "execution_count": 19,
   "id": "offshore-scanner",
   "metadata": {
    "execution": {
     "iopub.execute_input": "2021-06-15T13:19:04.423882Z",
     "iopub.status.busy": "2021-06-15T13:19:04.423166Z",
     "iopub.status.idle": "2021-06-15T13:19:04.427223Z",
     "shell.execute_reply": "2021-06-15T13:19:04.426603Z",
     "shell.execute_reply.started": "2021-06-15T13:11:26.522704Z"
    },
    "id": "offshore-scanner",
    "outputId": "304decab-161b-4a70-fc99-10e557d03056",
    "papermill": {
     "duration": 0.047934,
     "end_time": "2021-06-15T13:19:04.427381",
     "exception": false,
     "start_time": "2021-06-15T13:19:04.379447",
     "status": "completed"
    },
    "tags": []
   },
   "outputs": [
    {
     "data": {
      "text/plain": [
       "13.2"
      ]
     },
     "execution_count": 19,
     "metadata": {},
     "output_type": "execute_result"
    }
   ],
   "source": [
    "# 60% of movies watched by 28491:\n",
    "perc = len(movies_watched) * 60 / 100\n",
    "perc"
   ]
  },
  {
   "cell_type": "code",
   "execution_count": 20,
   "id": "returning-patrick",
   "metadata": {
    "execution": {
     "iopub.execute_input": "2021-06-15T13:19:04.512210Z",
     "iopub.status.busy": "2021-06-15T13:19:04.511060Z",
     "iopub.status.idle": "2021-06-15T13:19:04.517543Z",
     "shell.execute_reply": "2021-06-15T13:19:04.516916Z",
     "shell.execute_reply.started": "2021-06-15T13:11:38.684276Z"
    },
    "id": "returning-patrick",
    "outputId": "e9b066b7-75d9-4da1-9f05-0e902bd9de82",
    "papermill": {
     "duration": 0.050802,
     "end_time": "2021-06-15T13:19:04.517681",
     "exception": false,
     "start_time": "2021-06-15T13:19:04.466879",
     "status": "completed"
    },
    "tags": []
   },
   "outputs": [
    {
     "data": {
      "text/plain": [
       "723"
      ]
     },
     "execution_count": 20,
     "metadata": {},
     "output_type": "execute_result"
    }
   ],
   "source": [
    "# People who have watched more than 60% movies together with 28491 users:\n",
    "users_same_movies = user_movie_count[user_movie_count[\"movie_count\"] > perc][\"userId\"]\n",
    "users_same_movies.count()"
   ]
  },
  {
   "cell_type": "code",
   "execution_count": 21,
   "id": "graduate-detector",
   "metadata": {
    "execution": {
     "iopub.execute_input": "2021-06-15T13:19:04.601013Z",
     "iopub.status.busy": "2021-06-15T13:19:04.600295Z",
     "iopub.status.idle": "2021-06-15T13:19:04.677121Z",
     "shell.execute_reply": "2021-06-15T13:19:04.677591Z",
     "shell.execute_reply.started": "2021-06-15T13:11:55.622931Z"
    },
    "id": "graduate-detector",
    "outputId": "46348b34-31fa-4d4c-a8e9-456d46d0e2c9",
    "papermill": {
     "duration": 0.119994,
     "end_time": "2021-06-15T13:19:04.677788",
     "exception": false,
     "start_time": "2021-06-15T13:19:04.557794",
     "status": "completed"
    },
    "tags": []
   },
   "outputs": [
    {
     "data": {
      "text/html": [
       "<div>\n",
       "<style scoped>\n",
       "    .dataframe tbody tr th:only-of-type {\n",
       "        vertical-align: middle;\n",
       "    }\n",
       "\n",
       "    .dataframe tbody tr th {\n",
       "        vertical-align: top;\n",
       "    }\n",
       "\n",
       "    .dataframe thead th {\n",
       "        text-align: right;\n",
       "    }\n",
       "</style>\n",
       "<table border=\"1\" class=\"dataframe\">\n",
       "  <thead>\n",
       "    <tr style=\"text-align: right;\">\n",
       "      <th>userId</th>\n",
       "      <th>156.0</th>\n",
       "      <th>298.0</th>\n",
       "      <th>768.0</th>\n",
       "      <th>775.0</th>\n",
       "      <th>812.0</th>\n",
       "      <th>903.0</th>\n",
       "      <th>971.0</th>\n",
       "      <th>982.0</th>\n",
       "      <th>1516.0</th>\n",
       "      <th>1849.0</th>\n",
       "      <th>...</th>\n",
       "      <th>136806.0</th>\n",
       "      <th>136875.0</th>\n",
       "      <th>137037.0</th>\n",
       "      <th>137202.0</th>\n",
       "      <th>137343.0</th>\n",
       "      <th>137686.0</th>\n",
       "      <th>137885.0</th>\n",
       "      <th>138134.0</th>\n",
       "      <th>138208.0</th>\n",
       "      <th>28491.0</th>\n",
       "    </tr>\n",
       "    <tr>\n",
       "      <th>userId</th>\n",
       "      <th></th>\n",
       "      <th></th>\n",
       "      <th></th>\n",
       "      <th></th>\n",
       "      <th></th>\n",
       "      <th></th>\n",
       "      <th></th>\n",
       "      <th></th>\n",
       "      <th></th>\n",
       "      <th></th>\n",
       "      <th></th>\n",
       "      <th></th>\n",
       "      <th></th>\n",
       "      <th></th>\n",
       "      <th></th>\n",
       "      <th></th>\n",
       "      <th></th>\n",
       "      <th></th>\n",
       "      <th></th>\n",
       "      <th></th>\n",
       "      <th></th>\n",
       "    </tr>\n",
       "  </thead>\n",
       "  <tbody>\n",
       "    <tr>\n",
       "      <th>156.0</th>\n",
       "      <td>1.000000</td>\n",
       "      <td>0.768998</td>\n",
       "      <td>0.518563</td>\n",
       "      <td>0.509571</td>\n",
       "      <td>0.406438</td>\n",
       "      <td>0.580881</td>\n",
       "      <td>0.746061</td>\n",
       "      <td>0.564671</td>\n",
       "      <td>0.760992</td>\n",
       "      <td>0.452328</td>\n",
       "      <td>...</td>\n",
       "      <td>0.231630</td>\n",
       "      <td>0.534560</td>\n",
       "      <td>0.705608</td>\n",
       "      <td>0.289858</td>\n",
       "      <td>0.489090</td>\n",
       "      <td>0.923310</td>\n",
       "      <td>0.809843</td>\n",
       "      <td>0.383278</td>\n",
       "      <td>0.515122</td>\n",
       "      <td>0.534434</td>\n",
       "    </tr>\n",
       "    <tr>\n",
       "      <th>298.0</th>\n",
       "      <td>0.768998</td>\n",
       "      <td>1.000000</td>\n",
       "      <td>0.494077</td>\n",
       "      <td>0.671367</td>\n",
       "      <td>0.449945</td>\n",
       "      <td>0.681788</td>\n",
       "      <td>0.612133</td>\n",
       "      <td>0.692902</td>\n",
       "      <td>0.791030</td>\n",
       "      <td>0.580531</td>\n",
       "      <td>...</td>\n",
       "      <td>0.528925</td>\n",
       "      <td>0.769683</td>\n",
       "      <td>0.896963</td>\n",
       "      <td>0.384900</td>\n",
       "      <td>0.543919</td>\n",
       "      <td>0.752742</td>\n",
       "      <td>0.660895</td>\n",
       "      <td>0.353248</td>\n",
       "      <td>0.665225</td>\n",
       "      <td>0.681345</td>\n",
       "    </tr>\n",
       "    <tr>\n",
       "      <th>768.0</th>\n",
       "      <td>0.518563</td>\n",
       "      <td>0.494077</td>\n",
       "      <td>1.000000</td>\n",
       "      <td>0.517099</td>\n",
       "      <td>0.393692</td>\n",
       "      <td>0.538754</td>\n",
       "      <td>0.561707</td>\n",
       "      <td>0.590536</td>\n",
       "      <td>0.606786</td>\n",
       "      <td>0.412043</td>\n",
       "      <td>...</td>\n",
       "      <td>0.644874</td>\n",
       "      <td>0.705789</td>\n",
       "      <td>0.631283</td>\n",
       "      <td>0.437588</td>\n",
       "      <td>0.256773</td>\n",
       "      <td>0.444187</td>\n",
       "      <td>0.623648</td>\n",
       "      <td>0.466817</td>\n",
       "      <td>0.262072</td>\n",
       "      <td>0.700749</td>\n",
       "    </tr>\n",
       "    <tr>\n",
       "      <th>775.0</th>\n",
       "      <td>0.509571</td>\n",
       "      <td>0.671367</td>\n",
       "      <td>0.517099</td>\n",
       "      <td>1.000000</td>\n",
       "      <td>-0.121151</td>\n",
       "      <td>0.559295</td>\n",
       "      <td>0.528027</td>\n",
       "      <td>0.570422</td>\n",
       "      <td>0.465163</td>\n",
       "      <td>0.660543</td>\n",
       "      <td>...</td>\n",
       "      <td>0.676971</td>\n",
       "      <td>0.198899</td>\n",
       "      <td>0.706739</td>\n",
       "      <td>0.571706</td>\n",
       "      <td>0.174144</td>\n",
       "      <td>0.644313</td>\n",
       "      <td>0.701843</td>\n",
       "      <td>0.534395</td>\n",
       "      <td>0.266122</td>\n",
       "      <td>0.313870</td>\n",
       "    </tr>\n",
       "    <tr>\n",
       "      <th>812.0</th>\n",
       "      <td>0.406438</td>\n",
       "      <td>0.449945</td>\n",
       "      <td>0.393692</td>\n",
       "      <td>-0.121151</td>\n",
       "      <td>1.000000</td>\n",
       "      <td>0.486398</td>\n",
       "      <td>0.516995</td>\n",
       "      <td>0.421158</td>\n",
       "      <td>0.339938</td>\n",
       "      <td>-0.122608</td>\n",
       "      <td>...</td>\n",
       "      <td>-0.150079</td>\n",
       "      <td>0.407864</td>\n",
       "      <td>0.478719</td>\n",
       "      <td>0.047782</td>\n",
       "      <td>0.309242</td>\n",
       "      <td>0.439956</td>\n",
       "      <td>0.364421</td>\n",
       "      <td>-0.438957</td>\n",
       "      <td>0.378231</td>\n",
       "      <td>0.219947</td>\n",
       "    </tr>\n",
       "    <tr>\n",
       "      <th>...</th>\n",
       "      <td>...</td>\n",
       "      <td>...</td>\n",
       "      <td>...</td>\n",
       "      <td>...</td>\n",
       "      <td>...</td>\n",
       "      <td>...</td>\n",
       "      <td>...</td>\n",
       "      <td>...</td>\n",
       "      <td>...</td>\n",
       "      <td>...</td>\n",
       "      <td>...</td>\n",
       "      <td>...</td>\n",
       "      <td>...</td>\n",
       "      <td>...</td>\n",
       "      <td>...</td>\n",
       "      <td>...</td>\n",
       "      <td>...</td>\n",
       "      <td>...</td>\n",
       "      <td>...</td>\n",
       "      <td>...</td>\n",
       "      <td>...</td>\n",
       "    </tr>\n",
       "    <tr>\n",
       "      <th>137686.0</th>\n",
       "      <td>0.923310</td>\n",
       "      <td>0.752742</td>\n",
       "      <td>0.444187</td>\n",
       "      <td>0.644313</td>\n",
       "      <td>0.439956</td>\n",
       "      <td>0.818724</td>\n",
       "      <td>0.715936</td>\n",
       "      <td>0.661438</td>\n",
       "      <td>0.688119</td>\n",
       "      <td>0.784257</td>\n",
       "      <td>...</td>\n",
       "      <td>0.328167</td>\n",
       "      <td>0.508406</td>\n",
       "      <td>0.760413</td>\n",
       "      <td>0.544165</td>\n",
       "      <td>0.519028</td>\n",
       "      <td>1.000000</td>\n",
       "      <td>0.795444</td>\n",
       "      <td>0.435016</td>\n",
       "      <td>0.734423</td>\n",
       "      <td>0.395573</td>\n",
       "    </tr>\n",
       "    <tr>\n",
       "      <th>137885.0</th>\n",
       "      <td>0.809843</td>\n",
       "      <td>0.660895</td>\n",
       "      <td>0.623648</td>\n",
       "      <td>0.701843</td>\n",
       "      <td>0.364421</td>\n",
       "      <td>0.742307</td>\n",
       "      <td>0.709293</td>\n",
       "      <td>0.708238</td>\n",
       "      <td>0.883455</td>\n",
       "      <td>0.646443</td>\n",
       "      <td>...</td>\n",
       "      <td>0.459424</td>\n",
       "      <td>0.405298</td>\n",
       "      <td>0.749775</td>\n",
       "      <td>0.632522</td>\n",
       "      <td>0.549091</td>\n",
       "      <td>0.795444</td>\n",
       "      <td>1.000000</td>\n",
       "      <td>0.349731</td>\n",
       "      <td>0.439163</td>\n",
       "      <td>0.572888</td>\n",
       "    </tr>\n",
       "    <tr>\n",
       "      <th>138134.0</th>\n",
       "      <td>0.383278</td>\n",
       "      <td>0.353248</td>\n",
       "      <td>0.466817</td>\n",
       "      <td>0.534395</td>\n",
       "      <td>-0.438957</td>\n",
       "      <td>0.531844</td>\n",
       "      <td>0.337219</td>\n",
       "      <td>0.353774</td>\n",
       "      <td>0.247008</td>\n",
       "      <td>0.890524</td>\n",
       "      <td>...</td>\n",
       "      <td>0.336349</td>\n",
       "      <td>0.350716</td>\n",
       "      <td>0.575853</td>\n",
       "      <td>0.203398</td>\n",
       "      <td>0.178862</td>\n",
       "      <td>0.435016</td>\n",
       "      <td>0.349731</td>\n",
       "      <td>1.000000</td>\n",
       "      <td>0.354943</td>\n",
       "      <td>0.239835</td>\n",
       "    </tr>\n",
       "    <tr>\n",
       "      <th>138208.0</th>\n",
       "      <td>0.515122</td>\n",
       "      <td>0.665225</td>\n",
       "      <td>0.262072</td>\n",
       "      <td>0.266122</td>\n",
       "      <td>0.378231</td>\n",
       "      <td>0.676066</td>\n",
       "      <td>0.427844</td>\n",
       "      <td>0.546744</td>\n",
       "      <td>0.528013</td>\n",
       "      <td>0.497494</td>\n",
       "      <td>...</td>\n",
       "      <td>0.438774</td>\n",
       "      <td>0.124012</td>\n",
       "      <td>0.419359</td>\n",
       "      <td>0.662844</td>\n",
       "      <td>0.253285</td>\n",
       "      <td>0.734423</td>\n",
       "      <td>0.439163</td>\n",
       "      <td>0.354943</td>\n",
       "      <td>1.000000</td>\n",
       "      <td>0.519454</td>\n",
       "    </tr>\n",
       "    <tr>\n",
       "      <th>28491.0</th>\n",
       "      <td>0.534434</td>\n",
       "      <td>0.681345</td>\n",
       "      <td>0.700749</td>\n",
       "      <td>0.313870</td>\n",
       "      <td>0.219947</td>\n",
       "      <td>0.319962</td>\n",
       "      <td>0.582960</td>\n",
       "      <td>0.547316</td>\n",
       "      <td>0.615093</td>\n",
       "      <td>0.416969</td>\n",
       "      <td>...</td>\n",
       "      <td>0.506451</td>\n",
       "      <td>0.368988</td>\n",
       "      <td>0.584740</td>\n",
       "      <td>0.440026</td>\n",
       "      <td>0.488786</td>\n",
       "      <td>0.395573</td>\n",
       "      <td>0.572888</td>\n",
       "      <td>0.239835</td>\n",
       "      <td>0.519454</td>\n",
       "      <td>1.000000</td>\n",
       "    </tr>\n",
       "  </tbody>\n",
       "</table>\n",
       "<p>724 rows × 724 columns</p>\n",
       "</div>"
      ],
      "text/plain": [
       "userId    156.0     298.0     768.0     775.0     812.0     903.0     \\\n",
       "userId                                                                 \n",
       "156.0     1.000000  0.768998  0.518563  0.509571  0.406438  0.580881   \n",
       "298.0     0.768998  1.000000  0.494077  0.671367  0.449945  0.681788   \n",
       "768.0     0.518563  0.494077  1.000000  0.517099  0.393692  0.538754   \n",
       "775.0     0.509571  0.671367  0.517099  1.000000 -0.121151  0.559295   \n",
       "812.0     0.406438  0.449945  0.393692 -0.121151  1.000000  0.486398   \n",
       "...            ...       ...       ...       ...       ...       ...   \n",
       "137686.0  0.923310  0.752742  0.444187  0.644313  0.439956  0.818724   \n",
       "137885.0  0.809843  0.660895  0.623648  0.701843  0.364421  0.742307   \n",
       "138134.0  0.383278  0.353248  0.466817  0.534395 -0.438957  0.531844   \n",
       "138208.0  0.515122  0.665225  0.262072  0.266122  0.378231  0.676066   \n",
       "28491.0   0.534434  0.681345  0.700749  0.313870  0.219947  0.319962   \n",
       "\n",
       "userId    971.0     982.0     1516.0    1849.0    ...  136806.0  136875.0  \\\n",
       "userId                                            ...                       \n",
       "156.0     0.746061  0.564671  0.760992  0.452328  ...  0.231630  0.534560   \n",
       "298.0     0.612133  0.692902  0.791030  0.580531  ...  0.528925  0.769683   \n",
       "768.0     0.561707  0.590536  0.606786  0.412043  ...  0.644874  0.705789   \n",
       "775.0     0.528027  0.570422  0.465163  0.660543  ...  0.676971  0.198899   \n",
       "812.0     0.516995  0.421158  0.339938 -0.122608  ... -0.150079  0.407864   \n",
       "...            ...       ...       ...       ...  ...       ...       ...   \n",
       "137686.0  0.715936  0.661438  0.688119  0.784257  ...  0.328167  0.508406   \n",
       "137885.0  0.709293  0.708238  0.883455  0.646443  ...  0.459424  0.405298   \n",
       "138134.0  0.337219  0.353774  0.247008  0.890524  ...  0.336349  0.350716   \n",
       "138208.0  0.427844  0.546744  0.528013  0.497494  ...  0.438774  0.124012   \n",
       "28491.0   0.582960  0.547316  0.615093  0.416969  ...  0.506451  0.368988   \n",
       "\n",
       "userId    137037.0  137202.0  137343.0  137686.0  137885.0  138134.0  \\\n",
       "userId                                                                 \n",
       "156.0     0.705608  0.289858  0.489090  0.923310  0.809843  0.383278   \n",
       "298.0     0.896963  0.384900  0.543919  0.752742  0.660895  0.353248   \n",
       "768.0     0.631283  0.437588  0.256773  0.444187  0.623648  0.466817   \n",
       "775.0     0.706739  0.571706  0.174144  0.644313  0.701843  0.534395   \n",
       "812.0     0.478719  0.047782  0.309242  0.439956  0.364421 -0.438957   \n",
       "...            ...       ...       ...       ...       ...       ...   \n",
       "137686.0  0.760413  0.544165  0.519028  1.000000  0.795444  0.435016   \n",
       "137885.0  0.749775  0.632522  0.549091  0.795444  1.000000  0.349731   \n",
       "138134.0  0.575853  0.203398  0.178862  0.435016  0.349731  1.000000   \n",
       "138208.0  0.419359  0.662844  0.253285  0.734423  0.439163  0.354943   \n",
       "28491.0   0.584740  0.440026  0.488786  0.395573  0.572888  0.239835   \n",
       "\n",
       "userId    138208.0  28491.0   \n",
       "userId                        \n",
       "156.0     0.515122  0.534434  \n",
       "298.0     0.665225  0.681345  \n",
       "768.0     0.262072  0.700749  \n",
       "775.0     0.266122  0.313870  \n",
       "812.0     0.378231  0.219947  \n",
       "...            ...       ...  \n",
       "137686.0  0.734423  0.395573  \n",
       "137885.0  0.439163  0.572888  \n",
       "138134.0  0.354943  0.239835  \n",
       "138208.0  1.000000  0.519454  \n",
       "28491.0   0.519454  1.000000  \n",
       "\n",
       "[724 rows x 724 columns]"
      ]
     },
     "execution_count": 21,
     "metadata": {},
     "output_type": "execute_result"
    }
   ],
   "source": [
    "# Let's combine the data of user #28491 and similar users:\n",
    "final_df = pd.concat([movies_watched_df[movies_watched_df.index.isin(users_same_movies)],\n",
    "                      random_user_df[movies_watched]])\n",
    "\n",
    "final_df.shape\n",
    "final_df.T.corr()"
   ]
  },
  {
   "cell_type": "code",
   "execution_count": 22,
   "id": "continuing-swift",
   "metadata": {
    "execution": {
     "iopub.execute_input": "2021-06-15T13:19:04.767167Z",
     "iopub.status.busy": "2021-06-15T13:19:04.766509Z",
     "iopub.status.idle": "2021-06-15T13:19:04.942938Z",
     "shell.execute_reply": "2021-06-15T13:19:04.942339Z",
     "shell.execute_reply.started": "2021-06-15T13:12:24.215969Z"
    },
    "id": "continuing-swift",
    "outputId": "22416a4d-7f7f-4bee-f5b8-236a1161d617",
    "papermill": {
     "duration": 0.223816,
     "end_time": "2021-06-15T13:19:04.943084",
     "exception": false,
     "start_time": "2021-06-15T13:19:04.719268",
     "status": "completed"
    },
    "tags": []
   },
   "outputs": [
    {
     "data": {
      "text/html": [
       "<div>\n",
       "<style scoped>\n",
       "    .dataframe tbody tr th:only-of-type {\n",
       "        vertical-align: middle;\n",
       "    }\n",
       "\n",
       "    .dataframe tbody tr th {\n",
       "        vertical-align: top;\n",
       "    }\n",
       "\n",
       "    .dataframe thead th {\n",
       "        text-align: right;\n",
       "    }\n",
       "</style>\n",
       "<table border=\"1\" class=\"dataframe\">\n",
       "  <thead>\n",
       "    <tr style=\"text-align: right;\">\n",
       "      <th></th>\n",
       "      <th>user_id_1</th>\n",
       "      <th>user_id_2</th>\n",
       "      <th>corr</th>\n",
       "    </tr>\n",
       "  </thead>\n",
       "  <tbody>\n",
       "    <tr>\n",
       "      <th>0</th>\n",
       "      <td>98213.0</td>\n",
       "      <td>3664.0</td>\n",
       "      <td>-0.947998</td>\n",
       "    </tr>\n",
       "    <tr>\n",
       "      <th>1</th>\n",
       "      <td>98213.0</td>\n",
       "      <td>68575.0</td>\n",
       "      <td>-0.930482</td>\n",
       "    </tr>\n",
       "    <tr>\n",
       "      <th>2</th>\n",
       "      <td>98213.0</td>\n",
       "      <td>39382.0</td>\n",
       "      <td>-0.923228</td>\n",
       "    </tr>\n",
       "    <tr>\n",
       "      <th>3</th>\n",
       "      <td>125010.0</td>\n",
       "      <td>96859.0</td>\n",
       "      <td>-0.917663</td>\n",
       "    </tr>\n",
       "    <tr>\n",
       "      <th>4</th>\n",
       "      <td>130491.0</td>\n",
       "      <td>125010.0</td>\n",
       "      <td>-0.891902</td>\n",
       "    </tr>\n",
       "  </tbody>\n",
       "</table>\n",
       "</div>"
      ],
      "text/plain": [
       "   user_id_1  user_id_2      corr\n",
       "0    98213.0     3664.0 -0.947998\n",
       "1    98213.0    68575.0 -0.930482\n",
       "2    98213.0    39382.0 -0.923228\n",
       "3   125010.0    96859.0 -0.917663\n",
       "4   130491.0   125010.0 -0.891902"
      ]
     },
     "execution_count": 22,
     "metadata": {},
     "output_type": "execute_result"
    }
   ],
   "source": [
    "#corr for all users:\n",
    "corr_df = final_df.T.corr().unstack().sort_values().drop_duplicates()\n",
    "corr_df = pd.DataFrame(corr_df, columns=[\"corr\"])\n",
    "corr_df.index.names = ['user_id_1', 'user_id_2']\n",
    "corr_df = corr_df.reset_index()\n",
    "corr_df.head()"
   ]
  },
  {
   "cell_type": "code",
   "execution_count": 23,
   "id": "liberal-phase",
   "metadata": {
    "execution": {
     "iopub.execute_input": "2021-06-15T13:19:05.032967Z",
     "iopub.status.busy": "2021-06-15T13:19:05.032122Z",
     "iopub.status.idle": "2021-06-15T13:19:05.048819Z",
     "shell.execute_reply": "2021-06-15T13:19:05.048252Z",
     "shell.execute_reply.started": "2021-06-15T13:12:48.046139Z"
    },
    "id": "liberal-phase",
    "outputId": "796d7de3-668a-4229-a375-aed6fde39bd5",
    "papermill": {
     "duration": 0.064255,
     "end_time": "2021-06-15T13:19:05.048958",
     "exception": false,
     "start_time": "2021-06-15T13:19:04.984703",
     "status": "completed"
    },
    "tags": []
   },
   "outputs": [
    {
     "data": {
      "text/html": [
       "<div>\n",
       "<style scoped>\n",
       "    .dataframe tbody tr th:only-of-type {\n",
       "        vertical-align: middle;\n",
       "    }\n",
       "\n",
       "    .dataframe tbody tr th {\n",
       "        vertical-align: top;\n",
       "    }\n",
       "\n",
       "    .dataframe thead th {\n",
       "        text-align: right;\n",
       "    }\n",
       "</style>\n",
       "<table border=\"1\" class=\"dataframe\">\n",
       "  <thead>\n",
       "    <tr style=\"text-align: right;\">\n",
       "      <th></th>\n",
       "      <th>userId</th>\n",
       "      <th>corr</th>\n",
       "    </tr>\n",
       "  </thead>\n",
       "  <tbody>\n",
       "    <tr>\n",
       "      <th>74</th>\n",
       "      <td>9116.0</td>\n",
       "      <td>0.889251</td>\n",
       "    </tr>\n",
       "    <tr>\n",
       "      <th>73</th>\n",
       "      <td>7370.0</td>\n",
       "      <td>0.862414</td>\n",
       "    </tr>\n",
       "    <tr>\n",
       "      <th>72</th>\n",
       "      <td>126909.0</td>\n",
       "      <td>0.844482</td>\n",
       "    </tr>\n",
       "    <tr>\n",
       "      <th>71</th>\n",
       "      <td>68575.0</td>\n",
       "      <td>0.833011</td>\n",
       "    </tr>\n",
       "    <tr>\n",
       "      <th>70</th>\n",
       "      <td>62599.0</td>\n",
       "      <td>0.822171</td>\n",
       "    </tr>\n",
       "  </tbody>\n",
       "</table>\n",
       "</div>"
      ],
      "text/plain": [
       "      userId      corr\n",
       "74    9116.0  0.889251\n",
       "73    7370.0  0.862414\n",
       "72  126909.0  0.844482\n",
       "71   68575.0  0.833011\n",
       "70   62599.0  0.822171"
      ]
     },
     "execution_count": 23,
     "metadata": {},
     "output_type": "execute_result"
    }
   ],
   "source": [
    "# Users with a correlation of %65 or more with 28491 users:\n",
    "top_users = corr_df[(corr_df[\"user_id_1\"] == random_user) & (corr_df[\"corr\"] >= 0.65)][\n",
    "    [\"user_id_2\", \"corr\"]].reset_index(drop=True)\n",
    "\n",
    "top_users = top_users.sort_values(by='corr', ascending=False)\n",
    "top_users.rename(columns={\"user_id_2\": \"userId\"}, inplace=True)\n",
    "top_users.head()"
   ]
  },
  {
   "cell_type": "code",
   "execution_count": 25,
   "id": "endangered-minister",
   "metadata": {
    "execution": {
     "iopub.execute_input": "2021-06-15T13:19:05.136157Z",
     "iopub.status.busy": "2021-06-15T13:19:05.135505Z",
     "iopub.status.idle": "2021-06-15T13:19:25.635772Z",
     "shell.execute_reply": "2021-06-15T13:19:25.635095Z",
     "shell.execute_reply.started": "2021-06-15T13:14:55.088712Z"
    },
    "id": "endangered-minister",
    "outputId": "4c6be0ff-dc70-45b5-eea1-dd7c69cea494",
    "papermill": {
     "duration": 20.544331,
     "end_time": "2021-06-15T13:19:25.635921",
     "exception": false,
     "start_time": "2021-06-15T13:19:05.091590",
     "status": "completed"
    },
    "tags": []
   },
   "outputs": [
    {
     "data": {
      "text/html": [
       "<div>\n",
       "<style scoped>\n",
       "    .dataframe tbody tr th:only-of-type {\n",
       "        vertical-align: middle;\n",
       "    }\n",
       "\n",
       "    .dataframe tbody tr th {\n",
       "        vertical-align: top;\n",
       "    }\n",
       "\n",
       "    .dataframe thead th {\n",
       "        text-align: right;\n",
       "    }\n",
       "</style>\n",
       "<table border=\"1\" class=\"dataframe\">\n",
       "  <thead>\n",
       "    <tr style=\"text-align: right;\">\n",
       "      <th></th>\n",
       "      <th>userId</th>\n",
       "      <th>corr</th>\n",
       "      <th>movieId</th>\n",
       "      <th>rating</th>\n",
       "    </tr>\n",
       "  </thead>\n",
       "  <tbody>\n",
       "    <tr>\n",
       "      <th>0</th>\n",
       "      <td>9116.0</td>\n",
       "      <td>0.889251</td>\n",
       "      <td>1</td>\n",
       "      <td>4.0</td>\n",
       "    </tr>\n",
       "    <tr>\n",
       "      <th>1</th>\n",
       "      <td>9116.0</td>\n",
       "      <td>0.889251</td>\n",
       "      <td>2</td>\n",
       "      <td>4.0</td>\n",
       "    </tr>\n",
       "    <tr>\n",
       "      <th>2</th>\n",
       "      <td>9116.0</td>\n",
       "      <td>0.889251</td>\n",
       "      <td>4</td>\n",
       "      <td>3.0</td>\n",
       "    </tr>\n",
       "    <tr>\n",
       "      <th>3</th>\n",
       "      <td>9116.0</td>\n",
       "      <td>0.889251</td>\n",
       "      <td>5</td>\n",
       "      <td>4.0</td>\n",
       "    </tr>\n",
       "    <tr>\n",
       "      <th>4</th>\n",
       "      <td>9116.0</td>\n",
       "      <td>0.889251</td>\n",
       "      <td>9</td>\n",
       "      <td>2.0</td>\n",
       "    </tr>\n",
       "  </tbody>\n",
       "</table>\n",
       "</div>"
      ],
      "text/plain": [
       "   userId      corr  movieId  rating\n",
       "0  9116.0  0.889251        1     4.0\n",
       "1  9116.0  0.889251        2     4.0\n",
       "2  9116.0  0.889251        4     3.0\n",
       "3  9116.0  0.889251        5     4.0\n",
       "4  9116.0  0.889251        9     2.0"
      ]
     },
     "execution_count": 25,
     "metadata": {},
     "output_type": "execute_result"
    }
   ],
   "source": [
    "# let's see the ratings of users:\n",
    "rating = pd.read_csv(\"rating.csv\")\n",
    "top_users_ratings = top_users.merge(rating[[\"userId\", \"movieId\", \"rating\"]], how='inner')\n",
    "\n",
    "top_users_ratings = top_users_ratings[top_users_ratings[\"userId\"] != random_user]\n",
    "top_users_ratings.head()"
   ]
  },
  {
   "cell_type": "code",
   "execution_count": 26,
   "id": "expanded-scotland",
   "metadata": {
    "execution": {
     "iopub.execute_input": "2021-06-15T13:19:25.727267Z",
     "iopub.status.busy": "2021-06-15T13:19:25.726546Z",
     "iopub.status.idle": "2021-06-15T13:19:25.748843Z",
     "shell.execute_reply": "2021-06-15T13:19:25.749402Z",
     "shell.execute_reply.started": "2021-06-15T13:15:31.737467Z"
    },
    "id": "expanded-scotland",
    "outputId": "624c41f4-4328-4fd8-99e4-01ea2f2cd713",
    "papermill": {
     "duration": 0.071152,
     "end_time": "2021-06-15T13:19:25.749608",
     "exception": false,
     "start_time": "2021-06-15T13:19:25.678456",
     "status": "completed"
    },
    "tags": []
   },
   "outputs": [
    {
     "data": {
      "text/html": [
       "<div>\n",
       "<style scoped>\n",
       "    .dataframe tbody tr th:only-of-type {\n",
       "        vertical-align: middle;\n",
       "    }\n",
       "\n",
       "    .dataframe tbody tr th {\n",
       "        vertical-align: top;\n",
       "    }\n",
       "\n",
       "    .dataframe thead th {\n",
       "        text-align: right;\n",
       "    }\n",
       "</style>\n",
       "<table border=\"1\" class=\"dataframe\">\n",
       "  <thead>\n",
       "    <tr style=\"text-align: right;\">\n",
       "      <th></th>\n",
       "      <th>movieId</th>\n",
       "      <th>weighted_rating</th>\n",
       "    </tr>\n",
       "  </thead>\n",
       "  <tbody>\n",
       "    <tr>\n",
       "      <th>0</th>\n",
       "      <td>1</td>\n",
       "      <td>2.865044</td>\n",
       "    </tr>\n",
       "    <tr>\n",
       "      <th>1</th>\n",
       "      <td>2</td>\n",
       "      <td>2.012408</td>\n",
       "    </tr>\n",
       "    <tr>\n",
       "      <th>2</th>\n",
       "      <td>3</td>\n",
       "      <td>1.958197</td>\n",
       "    </tr>\n",
       "    <tr>\n",
       "      <th>3</th>\n",
       "      <td>4</td>\n",
       "      <td>1.651389</td>\n",
       "    </tr>\n",
       "    <tr>\n",
       "      <th>4</th>\n",
       "      <td>5</td>\n",
       "      <td>1.703669</td>\n",
       "    </tr>\n",
       "  </tbody>\n",
       "</table>\n",
       "</div>"
      ],
      "text/plain": [
       "   movieId  weighted_rating\n",
       "0        1         2.865044\n",
       "1        2         2.012408\n",
       "2        3         1.958197\n",
       "3        4         1.651389\n",
       "4        5         1.703669"
      ]
     },
     "execution_count": 26,
     "metadata": {},
     "output_type": "execute_result"
    }
   ],
   "source": [
    "# Calculate Weighted Average Recommendation Score and keep the first 5 movies.\n",
    "\n",
    "#Lets do a single score with the most similar by corr*rating:\n",
    "top_users_ratings['weighted_rating'] = top_users_ratings['corr'] * top_users_ratings['rating']\n",
    "top_users_ratings.groupby('movieId').agg({\"weighted_rating\": \"mean\"})\n",
    "\n",
    "recommendation_df = top_users_ratings.groupby('movieId').agg({\"weighted_rating\": \"mean\"})\n",
    "recommendation_df = recommendation_df.reset_index()\n",
    "recommendation_df.head()"
   ]
  },
  {
   "cell_type": "code",
   "execution_count": 29,
   "id": "insured-hurricane",
   "metadata": {
    "execution": {
     "iopub.execute_input": "2021-06-15T13:19:25.837907Z",
     "iopub.status.busy": "2021-06-15T13:19:25.837159Z",
     "iopub.status.idle": "2021-06-15T13:19:25.872612Z",
     "shell.execute_reply": "2021-06-15T13:19:25.871911Z",
     "shell.execute_reply.started": "2021-06-15T13:15:46.076491Z"
    },
    "id": "insured-hurricane",
    "outputId": "6227559f-5cc8-4adb-ddc9-1232282440f2",
    "papermill": {
     "duration": 0.080466,
     "end_time": "2021-06-15T13:19:25.872758",
     "exception": false,
     "start_time": "2021-06-15T13:19:25.792292",
     "status": "completed"
    },
    "tags": []
   },
   "outputs": [
    {
     "data": {
      "text/html": [
       "<div>\n",
       "<style scoped>\n",
       "    .dataframe tbody tr th:only-of-type {\n",
       "        vertical-align: middle;\n",
       "    }\n",
       "\n",
       "    .dataframe tbody tr th {\n",
       "        vertical-align: top;\n",
       "    }\n",
       "\n",
       "    .dataframe thead th {\n",
       "        text-align: right;\n",
       "    }\n",
       "</style>\n",
       "<table border=\"1\" class=\"dataframe\">\n",
       "  <thead>\n",
       "    <tr style=\"text-align: right;\">\n",
       "      <th></th>\n",
       "      <th>movieId</th>\n",
       "      <th>weighted_rating</th>\n",
       "      <th>title</th>\n",
       "    </tr>\n",
       "  </thead>\n",
       "  <tbody>\n",
       "    <tr>\n",
       "      <th>0</th>\n",
       "      <td>1151</td>\n",
       "      <td>4.222411</td>\n",
       "      <td>Faust (1994)</td>\n",
       "    </tr>\n",
       "    <tr>\n",
       "      <th>1</th>\n",
       "      <td>97328</td>\n",
       "      <td>3.848473</td>\n",
       "      <td>Liberal Arts (2012)</td>\n",
       "    </tr>\n",
       "    <tr>\n",
       "      <th>2</th>\n",
       "      <td>104944</td>\n",
       "      <td>3.848473</td>\n",
       "      <td>Short Term 12 (2013)</td>\n",
       "    </tr>\n",
       "    <tr>\n",
       "      <th>3</th>\n",
       "      <td>50742</td>\n",
       "      <td>3.748548</td>\n",
       "      <td>7 Plus Seven (1970)</td>\n",
       "    </tr>\n",
       "    <tr>\n",
       "      <th>4</th>\n",
       "      <td>97673</td>\n",
       "      <td>3.748548</td>\n",
       "      <td>56 Up (2012)</td>\n",
       "    </tr>\n",
       "  </tbody>\n",
       "</table>\n",
       "</div>"
      ],
      "text/plain": [
       "   movieId  weighted_rating                 title\n",
       "0     1151         4.222411          Faust (1994)\n",
       "1    97328         3.848473   Liberal Arts (2012)\n",
       "2   104944         3.848473  Short Term 12 (2013)\n",
       "3    50742         3.748548   7 Plus Seven (1970)\n",
       "4    97673         3.748548          56 Up (2012)"
      ]
     },
     "execution_count": 29,
     "metadata": {},
     "output_type": "execute_result"
    }
   ],
   "source": [
    "# weighted rating greater than 4:\n",
    "recommendation_df[recommendation_df[\"weighted_rating\"] > 3.7]\n",
    "\n",
    "# Movies 28491 will like:\n",
    "movies_to_be_recommend = recommendation_df[recommendation_df[\"weighted_rating\"] > 3.7].sort_values(\"weighted_rating\", ascending=False)\n",
    "\n",
    "movies_to_be_recommend.merge(movie[[\"movieId\", \"title\"]])\n",
    "\n",
    "#Let's see the top 5 movies:\n",
    "movies_to_be_recommend.merge(movie[[\"movieId\", \"title\"]])[:5]"
   ]
  },
  {
   "cell_type": "code",
   "execution_count": 30,
   "id": "found-department",
   "metadata": {
    "execution": {
     "iopub.execute_input": "2021-06-15T13:19:25.965014Z",
     "iopub.status.busy": "2021-06-15T13:19:25.964319Z",
     "iopub.status.idle": "2021-06-15T13:19:42.302234Z",
     "shell.execute_reply": "2021-06-15T13:19:42.302729Z",
     "shell.execute_reply.started": "2021-06-15T13:15:57.330663Z"
    },
    "id": "found-department",
    "outputId": "893c0ed6-a3d3-4087-d006-2b37a7ed6478",
    "papermill": {
     "duration": 16.387098,
     "end_time": "2021-06-15T13:19:42.302910",
     "exception": false,
     "start_time": "2021-06-15T13:19:25.915812",
     "status": "completed"
    },
    "tags": []
   },
   "outputs": [
    {
     "data": {
      "text/plain": [
       "7044"
      ]
     },
     "execution_count": 30,
     "metadata": {},
     "output_type": "execute_result"
    }
   ],
   "source": [
    "movie = pd.read_csv(\"movie.csv\")\n",
    "rating = pd.read_csv(\"rating.csv\")\n",
    "\n",
    "# The last highly rated movie by user 108170:\n",
    "\n",
    "user = 108170\n",
    "movie_id = rating[(rating[\"userId\"] == user) & (rating[\"rating\"] == 5.0)].sort_values(by=\"timestamp\", ascending=False)[\"movieId\"][0:1].values[0]\n",
    "movie_id"
   ]
  },
  {
   "cell_type": "code",
   "execution_count": 31,
   "id": "annoying-deficit",
   "metadata": {
    "execution": {
     "iopub.execute_input": "2021-06-15T13:19:42.398853Z",
     "iopub.status.busy": "2021-06-15T13:19:42.398134Z",
     "iopub.status.idle": "2021-06-15T13:19:42.409093Z",
     "shell.execute_reply": "2021-06-15T13:19:42.408566Z",
     "shell.execute_reply.started": "2021-06-15T13:16:28.126422Z"
    },
    "id": "annoying-deficit",
    "outputId": "c54f6b36-ebb3-418f-db80-41ea1b91aa79",
    "papermill": {
     "duration": 0.062982,
     "end_time": "2021-06-15T13:19:42.409239",
     "exception": false,
     "start_time": "2021-06-15T13:19:42.346257",
     "status": "completed"
    },
    "tags": []
   },
   "outputs": [
    {
     "data": {
      "text/plain": [
       "['Faust (1994)',\n",
       " 'Liberal Arts (2012)',\n",
       " 'Short Term 12 (2013)',\n",
       " '7 Plus Seven (1970)',\n",
       " '56 Up (2012)']"
      ]
     },
     "execution_count": 31,
     "metadata": {},
     "output_type": "execute_result"
    }
   ],
   "source": [
    "# 5 suggestions user-based\n",
    "movies_to_be_recommend.merge(movie[[\"movieId\", \"title\"]])[:5]['title'].to_list()"
   ]
  },
  {
   "cell_type": "code",
   "execution_count": 32,
   "id": "therapeutic-multiple",
   "metadata": {
    "execution": {
     "iopub.execute_input": "2021-06-15T13:19:42.505081Z",
     "iopub.status.busy": "2021-06-15T13:19:42.503959Z",
     "iopub.status.idle": "2021-06-15T13:19:54.481305Z",
     "shell.execute_reply": "2021-06-15T13:19:54.480759Z",
     "shell.execute_reply.started": "2021-06-15T13:16:32.137640Z"
    },
    "id": "therapeutic-multiple",
    "outputId": "309d923a-dfd1-4d1e-8cae-56805fed57a7",
    "papermill": {
     "duration": 12.028765,
     "end_time": "2021-06-15T13:19:54.481474",
     "exception": false,
     "start_time": "2021-06-15T13:19:42.452709",
     "status": "completed"
    },
    "tags": []
   },
   "outputs": [
    {
     "data": {
      "text/plain": [
       "['My Science Project (1985)',\n",
       " 'Mediterraneo (1991)',\n",
       " 'Old Man and the Sea, The (1958)',\n",
       " \"National Lampoon's Senior Trip (1995)\",\n",
       " 'Clockwatchers (1997)']"
      ]
     },
     "execution_count": 32,
     "metadata": {},
     "output_type": "execute_result"
    }
   ],
   "source": [
    "# 5 suggestions item-based\n",
    "movie_name = movie[movie['movieId'] == movie_id]['title'].values[0]\n",
    "movie_name = user_movie_df[movie_name]\n",
    "moveis_from_item_based = user_movie_df.corrwith(movie_name).sort_values(ascending=False)\n",
    "moveis_from_item_based[1:6].index.to_list()"
   ]
  }
 ],
 "metadata": {
  "colab": {
   "provenance": []
  },
  "kernelspec": {
   "display_name": "Python 3 (ipykernel)",
   "language": "python",
   "name": "python3"
  },
  "language_info": {
   "codemirror_mode": {
    "name": "ipython",
    "version": 3
   },
   "file_extension": ".py",
   "mimetype": "text/x-python",
   "name": "python",
   "nbconvert_exporter": "python",
   "pygments_lexer": "ipython3",
   "version": "3.10.9"
  },
  "papermill": {
   "default_parameters": {},
   "duration": 163.011649,
   "end_time": "2021-06-15T13:19:58.108750",
   "environment_variables": {},
   "exception": null,
   "input_path": "__notebook__.ipynb",
   "output_path": "__notebook__.ipynb",
   "parameters": {},
   "start_time": "2021-06-15T13:17:15.097101",
   "version": "2.3.3"
  }
 },
 "nbformat": 4,
 "nbformat_minor": 5
}
